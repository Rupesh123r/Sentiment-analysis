{
 "cells": [
  {
   "cell_type": "markdown",
   "id": "6fdbe481",
   "metadata": {},
   "source": [
    "# Group 16 End Term Project 2"
   ]
  },
  {
   "cell_type": "markdown",
   "id": "b9effe76",
   "metadata": {},
   "source": [
    "## Sentiment Analysis"
   ]
  },
  {
   "cell_type": "code",
   "execution_count": 2,
   "id": "6cce0f34",
   "metadata": {},
   "outputs": [],
   "source": [
    "import re\n",
    "import pandas as pd"
   ]
  },
  {
   "cell_type": "code",
   "execution_count": 3,
   "id": "6bffb444",
   "metadata": {},
   "outputs": [],
   "source": [
    "df=pd.read_csv(r\"C:\\Users\\Prince\\Downloads\\FintechApp_dataset.csv\",usecols = [\"content\"])"
   ]
  },
  {
   "cell_type": "code",
   "execution_count": 4,
   "id": "1059380c",
   "metadata": {},
   "outputs": [
    {
     "data": {
      "text/html": [
       "<div>\n",
       "<style scoped>\n",
       "    .dataframe tbody tr th:only-of-type {\n",
       "        vertical-align: middle;\n",
       "    }\n",
       "\n",
       "    .dataframe tbody tr th {\n",
       "        vertical-align: top;\n",
       "    }\n",
       "\n",
       "    .dataframe thead th {\n",
       "        text-align: right;\n",
       "    }\n",
       "</style>\n",
       "<table border=\"1\" class=\"dataframe\">\n",
       "  <thead>\n",
       "    <tr style=\"text-align: right;\">\n",
       "      <th></th>\n",
       "      <th>content</th>\n",
       "    </tr>\n",
       "  </thead>\n",
       "  <tbody>\n",
       "    <tr>\n",
       "      <th>0</th>\n",
       "      <td>Very bad experience, zero 🌟.</td>\n",
       "    </tr>\n",
       "    <tr>\n",
       "      <th>1</th>\n",
       "      <td>Regular payments failure and takes more than 1...</td>\n",
       "    </tr>\n",
       "    <tr>\n",
       "      <th>2</th>\n",
       "      <td>It keeps on disabling my account saying accoun...</td>\n",
       "    </tr>\n",
       "    <tr>\n",
       "      <th>3</th>\n",
       "      <td>Very bad service from gpay their specialist te...</td>\n",
       "    </tr>\n",
       "    <tr>\n",
       "      <th>4</th>\n",
       "      <td>Very bad app</td>\n",
       "    </tr>\n",
       "  </tbody>\n",
       "</table>\n",
       "</div>"
      ],
      "text/plain": [
       "                                             content\n",
       "0                       Very bad experience, zero 🌟.\n",
       "1  Regular payments failure and takes more than 1...\n",
       "2  It keeps on disabling my account saying accoun...\n",
       "3  Very bad service from gpay their specialist te...\n",
       "4                                       Very bad app"
      ]
     },
     "execution_count": 4,
     "metadata": {},
     "output_type": "execute_result"
    }
   ],
   "source": [
    "df.head()"
   ]
  },
  {
   "cell_type": "code",
   "execution_count": 5,
   "id": "c5771d89",
   "metadata": {},
   "outputs": [],
   "source": [
    "a=df.to_string(header=False,index=False)"
   ]
  },
  {
   "cell_type": "code",
   "execution_count": 6,
   "id": "44b44b52",
   "metadata": {},
   "outputs": [],
   "source": [
    "cleaned_review = re.sub(re.compile('<.*?>'), '', a) #removing HTML tags\n",
    "cleaned_review = re.sub('[^A-Za-z0-9]+', ' ', cleaned_review) #taking only words\n"
   ]
  },
  {
   "cell_type": "code",
   "execution_count": 7,
   "id": "8ba7fd09",
   "metadata": {},
   "outputs": [],
   "source": [
    "cleaned_review = cleaned_review.lower()"
   ]
  },
  {
   "cell_type": "code",
   "execution_count": 8,
   "id": "bfd8a0f3",
   "metadata": {},
   "outputs": [
    {
     "name": "stderr",
     "output_type": "stream",
     "text": [
      "[nltk_data] Downloading package punkt to\n",
      "[nltk_data]     C:\\Users\\Prince\\AppData\\Roaming\\nltk_data...\n",
      "[nltk_data]   Package punkt is already up-to-date!\n"
     ]
    }
   ],
   "source": [
    "import nltk\n",
    "nltk.download('punkt')\n",
    "\n",
    "from nltk.tokenize import word_tokenize\n",
    "\n",
    "tokens = nltk.word_tokenize(cleaned_review)"
   ]
  },
  {
   "cell_type": "code",
   "execution_count": 9,
   "id": "b87ae767",
   "metadata": {},
   "outputs": [
    {
     "name": "stderr",
     "output_type": "stream",
     "text": [
      "[nltk_data] Downloading package stopwords to\n",
      "[nltk_data]     C:\\Users\\Prince\\AppData\\Roaming\\nltk_data...\n",
      "[nltk_data]   Package stopwords is already up-to-date!\n"
     ]
    }
   ],
   "source": [
    "nltk.download('stopwords')\n",
    "from nltk.corpus import stopwords\n",
    "\n",
    "stop_words = stopwords.words('english')\n",
    "\n",
    "filtered_review = [word for word in tokens if word not in stop_words] # removing stop words"
   ]
  },
  {
   "cell_type": "code",
   "execution_count": 10,
   "id": "63f45c6c",
   "metadata": {},
   "outputs": [],
   "source": [
    "text = \" \".join(cat for cat in filtered_review)"
   ]
  },
  {
   "cell_type": "code",
   "execution_count": 13,
   "id": "fde3cb72",
   "metadata": {},
   "outputs": [
    {
     "name": "stdout",
     "output_type": "stream",
     "text": [
      "Collecting wordcloud\n",
      "  Downloading wordcloud-1.8.2.2-cp39-cp39-win_amd64.whl (153 kB)\n",
      "Requirement already satisfied: pillow in c:\\users\\prince\\anaconda3\\lib\\site-packages (from wordcloud) (9.0.1)\n",
      "Requirement already satisfied: numpy>=1.6.1 in c:\\users\\prince\\anaconda3\\lib\\site-packages (from wordcloud) (1.21.5)\n",
      "Requirement already satisfied: matplotlib in c:\\users\\prince\\anaconda3\\lib\\site-packages (from wordcloud) (3.5.1)\n",
      "Requirement already satisfied: python-dateutil>=2.7 in c:\\users\\prince\\anaconda3\\lib\\site-packages (from matplotlib->wordcloud) (2.8.2)\n",
      "Requirement already satisfied: packaging>=20.0 in c:\\users\\prince\\anaconda3\\lib\\site-packages (from matplotlib->wordcloud) (21.3)\n",
      "Requirement already satisfied: fonttools>=4.22.0 in c:\\users\\prince\\anaconda3\\lib\\site-packages (from matplotlib->wordcloud) (4.25.0)\n",
      "Requirement already satisfied: cycler>=0.10 in c:\\users\\prince\\anaconda3\\lib\\site-packages (from matplotlib->wordcloud) (0.11.0)\n",
      "Requirement already satisfied: pyparsing>=2.2.1 in c:\\users\\prince\\anaconda3\\lib\\site-packages (from matplotlib->wordcloud) (3.0.4)\n",
      "Requirement already satisfied: kiwisolver>=1.0.1 in c:\\users\\prince\\anaconda3\\lib\\site-packages (from matplotlib->wordcloud) (1.3.2)\n",
      "Requirement already satisfied: six>=1.5 in c:\\users\\prince\\anaconda3\\lib\\site-packages (from python-dateutil>=2.7->matplotlib->wordcloud) (1.16.0)\n",
      "Installing collected packages: wordcloud\n",
      "Successfully installed wordcloud-1.8.2.2\n",
      "Note: you may need to restart the kernel to use updated packages.\n"
     ]
    }
   ],
   "source": [
    "pip install wordcloud"
   ]
  },
  {
   "cell_type": "code",
   "execution_count": 14,
   "id": "b9e5c079",
   "metadata": {},
   "outputs": [],
   "source": [
    "from wordcloud import WordCloud, STOPWORDS\n",
    "word_cloud = WordCloud(\n",
    "        width=3000,\n",
    "        height=2000,\n",
    "        random_state=1,\n",
    "        background_color=\"salmon\",\n",
    "        colormap=\"Pastel1\",\n",
    "        collocations=False,\n",
    "        stopwords=STOPWORDS,\n",
    "        ).generate(text)"
   ]
  },
  {
   "cell_type": "code",
   "execution_count": 15,
   "id": "f0715e03",
   "metadata": {},
   "outputs": [
    {
     "data": {
      "image/png": "[encoded data removed]",
      "text/plain": [
       "<Figure size 432x288 with 1 Axes>"
      ]
     },
     "metadata": {
      "needs_background": "light"
     },
     "output_type": "display_data"
    }
   ],
   "source": [
    "    import matplotlib.pyplot as plt\n",
    "    plt.imshow(word_cloud)\n",
    "    plt.axis(\"off\")\n",
    "    plt.show()"
   ]
  },
  {
   "cell_type": "code",
   "execution_count": 16,
   "id": "b32d5209",
   "metadata": {},
   "outputs": [
    {
     "name": "stderr",
     "output_type": "stream",
     "text": [
      "[nltk_data] Downloading package wordnet to\n",
      "[nltk_data]     C:\\Users\\Prince\\AppData\\Roaming\\nltk_data...\n",
      "[nltk_data]   Package wordnet is already up-to-date!\n",
      "[nltk_data] Downloading package omw-1.4 to\n",
      "[nltk_data]     C:\\Users\\Prince\\AppData\\Roaming\\nltk_data...\n",
      "[nltk_data]   Package omw-1.4 is already up-to-date!\n"
     ]
    }
   ],
   "source": [
    "# Lemmatization\n",
    "import nltk\n",
    "nltk.download('wordnet')\n",
    "nltk.download('omw-1.4')\n",
    "from nltk.stem import WordNetLemmatizer\n",
    "from nltk.stem import WordNetLemmatizer\n",
    "\n",
    "lemmatizer = WordNetLemmatizer()\n",
    "\n",
    "lemm_review = [lemmatizer.lemmatize(word) for word in filtered_review]"
   ]
  },
  {
   "cell_type": "code",
   "execution_count": 18,
   "id": "d38c708a",
   "metadata": {},
   "outputs": [
    {
     "name": "stdout",
     "output_type": "stream",
     "text": [
      "Collecting textblob\n",
      "  Downloading textblob-0.17.1-py2.py3-none-any.whl (636 kB)\n",
      "Requirement already satisfied: nltk>=3.1 in c:\\users\\prince\\anaconda3\\lib\\site-packages (from textblob) (3.7)\n",
      "Requirement already satisfied: regex>=2021.8.3 in c:\\users\\prince\\anaconda3\\lib\\site-packages (from nltk>=3.1->textblob) (2022.3.15)\n",
      "Requirement already satisfied: joblib in c:\\users\\prince\\anaconda3\\lib\\site-packages (from nltk>=3.1->textblob) (1.1.0)\n",
      "Requirement already satisfied: click in c:\\users\\prince\\anaconda3\\lib\\site-packages (from nltk>=3.1->textblob) (8.0.4)\n",
      "Requirement already satisfied: tqdm in c:\\users\\prince\\anaconda3\\lib\\site-packages (from nltk>=3.1->textblob) (4.64.0)\n",
      "Requirement already satisfied: colorama in c:\\users\\prince\\anaconda3\\lib\\site-packages (from click->nltk>=3.1->textblob) (0.4.4)\n",
      "Installing collected packages: textblob\n",
      "Successfully installed textblob-0.17.1\n",
      "Note: you may need to restart the kernel to use updated packages.\n"
     ]
    }
   ],
   "source": [
    "pip install textblob"
   ]
  },
  {
   "cell_type": "code",
   "execution_count": 19,
   "id": "3a9f24b9",
   "metadata": {},
   "outputs": [],
   "source": [
    "from textblob import TextBlob"
   ]
  },
  {
   "cell_type": "code",
   "execution_count": 20,
   "id": "bb7ff17f",
   "metadata": {},
   "outputs": [],
   "source": [
    "text = \" \".join(cat for cat in lemm_review)"
   ]
  },
  {
   "cell_type": "code",
   "execution_count": 21,
   "id": "2d227556",
   "metadata": {},
   "outputs": [],
   "source": [
    "res = TextBlob(text)"
   ]
  },
  {
   "cell_type": "code",
   "execution_count": 22,
   "id": "cc2fac1b",
   "metadata": {},
   "outputs": [
    {
     "name": "stdout",
     "output_type": "stream",
     "text": [
      "0.18118183162954338\n"
     ]
    }
   ],
   "source": [
    "print(res.sentiment.polarity)"
   ]
  },
  {
   "cell_type": "code",
   "execution_count": 23,
   "id": "77ede1bf",
   "metadata": {},
   "outputs": [
    {
     "name": "stdout",
     "output_type": "stream",
     "text": [
      "Collecting vader\n",
      "  Downloading vader-0.0.3-py3-none-any.whl (4.8 MB)\n",
      "Collecting sonopy\n",
      "  Downloading sonopy-0.1.2.tar.gz (3.3 kB)\n",
      "Requirement already satisfied: scipy in c:\\users\\prince\\anaconda3\\lib\\site-packages (from vader) (1.7.3)\n",
      "Requirement already satisfied: scikit-learn in c:\\users\\prince\\anaconda3\\lib\\site-packages (from vader) (1.0.2)\n",
      "Requirement already satisfied: numpy in c:\\users\\prince\\anaconda3\\lib\\site-packages (from vader) (1.21.5)\n",
      "Requirement already satisfied: threadpoolctl>=2.0.0 in c:\\users\\prince\\anaconda3\\lib\\site-packages (from scikit-learn->vader) (2.2.0)\n",
      "Requirement already satisfied: joblib>=0.11 in c:\\users\\prince\\anaconda3\\lib\\site-packages (from scikit-learn->vader) (1.1.0)\n",
      "Building wheels for collected packages: sonopy\n",
      "  Building wheel for sonopy (setup.py): started\n",
      "  Building wheel for sonopy (setup.py): finished with status 'done'\n",
      "  Created wheel for sonopy: filename=sonopy-0.1.2-py3-none-any.whl size=2879 sha256=e4879c6f07093cae21c7dd52dfad65916ba4c14606f8c29ba85f4c9597063446\n",
      "  Stored in directory: c:\\users\\prince\\appdata\\local\\pip\\cache\\wheels\\61\\ad\\07\\1ac1172c8a0b8754f595f2f6779bc7dcbe75f1783d5b576b76\n",
      "Successfully built sonopy\n",
      "Installing collected packages: sonopy, vader\n",
      "Successfully installed sonopy-0.1.2 vader-0.0.3\n",
      "Note: you may need to restart the kernel to use updated packages.\n"
     ]
    }
   ],
   "source": [
    "pip install vader"
   ]
  },
  {
   "cell_type": "code",
   "execution_count": 26,
   "id": "301996dd",
   "metadata": {},
   "outputs": [
    {
     "name": "stdout",
     "output_type": "stream",
     "text": [
      "Collecting vadersentiment\n",
      "  Downloading vaderSentiment-3.3.2-py2.py3-none-any.whl (125 kB)\n",
      "Requirement already satisfied: requests in c:\\users\\prince\\anaconda3\\lib\\site-packages (from vadersentiment) (2.27.1)\n",
      "Requirement already satisfied: urllib3<1.27,>=1.21.1 in c:\\users\\prince\\anaconda3\\lib\\site-packages (from requests->vadersentiment) (1.26.9)\n",
      "Requirement already satisfied: certifi>=2017.4.17 in c:\\users\\prince\\anaconda3\\lib\\site-packages (from requests->vadersentiment) (2021.10.8)\n",
      "Requirement already satisfied: idna<4,>=2.5 in c:\\users\\prince\\anaconda3\\lib\\site-packages (from requests->vadersentiment) (3.3)\n",
      "Requirement already satisfied: charset-normalizer~=2.0.0 in c:\\users\\prince\\anaconda3\\lib\\site-packages (from requests->vadersentiment) (2.0.4)\n",
      "Installing collected packages: vadersentiment\n",
      "Successfully installed vadersentiment-3.3.2\n",
      "Note: you may need to restart the kernel to use updated packages.\n"
     ]
    }
   ],
   "source": [
    "pip install vadersentiment"
   ]
  },
  {
   "cell_type": "code",
   "execution_count": 27,
   "id": "2818efa9",
   "metadata": {},
   "outputs": [],
   "source": [
    "from vaderSentiment.vaderSentiment import SentimentIntensityAnalyzer"
   ]
  },
  {
   "cell_type": "code",
   "execution_count": 169,
   "id": "3c1991d2",
   "metadata": {},
   "outputs": [
    {
     "name": "stderr",
     "output_type": "stream",
     "text": [
      "[nltk_data] Downloading package vader_lexicon to\n",
      "[nltk_data]     C:\\Users\\Prince\\AppData\\Roaming\\nltk_data...\n",
      "[nltk_data]   Package vader_lexicon is already up-to-date!\n"
     ]
    }
   ],
   "source": [
    "import nltk\n",
    "nltk.download('vader_lexicon')\n",
    "from nltk.sentiment.vader import SentimentIntensityAnalyzer\n",
    "\n",
    "sid = SentimentIntensityAnalyzer()"
   ]
  },
  {
   "cell_type": "code",
   "execution_count": 171,
   "id": "b6cfb092",
   "metadata": {},
   "outputs": [
    {
     "data": {
      "text/html": [
       "<div>\n",
       "<style scoped>\n",
       "    .dataframe tbody tr th:only-of-type {\n",
       "        vertical-align: middle;\n",
       "    }\n",
       "\n",
       "    .dataframe tbody tr th {\n",
       "        vertical-align: top;\n",
       "    }\n",
       "\n",
       "    .dataframe thead th {\n",
       "        text-align: right;\n",
       "    }\n",
       "</style>\n",
       "<table border=\"1\" class=\"dataframe\">\n",
       "  <thead>\n",
       "    <tr style=\"text-align: right;\">\n",
       "      <th></th>\n",
       "      <th>content</th>\n",
       "      <th>score</th>\n",
       "      <th>totalwords</th>\n",
       "      <th>clean_review</th>\n",
       "      <th>scores</th>\n",
       "    </tr>\n",
       "  </thead>\n",
       "  <tbody>\n",
       "    <tr>\n",
       "      <th>1</th>\n",
       "      <td>Regular payments failure and takes more than 1...</td>\n",
       "      <td>1</td>\n",
       "      <td>15</td>\n",
       "      <td>regular payments failure takes 10 days time re...</td>\n",
       "      <td>{'neg': 0.191, 'neu': 0.809, 'pos': 0.0, 'comp...</td>\n",
       "    </tr>\n",
       "    <tr>\n",
       "      <th>2</th>\n",
       "      <td>It keeps on disabling my account saying accoun...</td>\n",
       "      <td>1</td>\n",
       "      <td>34</td>\n",
       "      <td>keeps disabling account saying account tempora...</td>\n",
       "      <td>{'neg': 0.276, 'neu': 0.647, 'pos': 0.076, 'co...</td>\n",
       "    </tr>\n",
       "    <tr>\n",
       "      <th>3</th>\n",
       "      <td>Very bad service from gpay their specialist te...</td>\n",
       "      <td>1</td>\n",
       "      <td>26</td>\n",
       "      <td>bad service gpay specialist team able solve pr...</td>\n",
       "      <td>{'neg': 0.403, 'neu': 0.597, 'pos': 0.0, 'comp...</td>\n",
       "    </tr>\n",
       "    <tr>\n",
       "      <th>4</th>\n",
       "      <td>Very bad app</td>\n",
       "      <td>1</td>\n",
       "      <td>3</td>\n",
       "      <td>bad app</td>\n",
       "      <td>{'neg': 0.655, 'neu': 0.345, 'pos': 0.0, 'comp...</td>\n",
       "    </tr>\n",
       "    <tr>\n",
       "      <th>7</th>\n",
       "      <td>Guys if you have updated your app then please ...</td>\n",
       "      <td>1</td>\n",
       "      <td>69</td>\n",
       "      <td>guys updated app please inform users app updat...</td>\n",
       "      <td>{'neg': 0.032, 'neu': 0.935, 'pos': 0.033, 'co...</td>\n",
       "    </tr>\n",
       "  </tbody>\n",
       "</table>\n",
       "</div>"
      ],
      "text/plain": [
       "                                             content  score  totalwords  \\\n",
       "1  Regular payments failure and takes more than 1...      1          15   \n",
       "2  It keeps on disabling my account saying accoun...      1          34   \n",
       "3  Very bad service from gpay their specialist te...      1          26   \n",
       "4                                       Very bad app      1           3   \n",
       "7  Guys if you have updated your app then please ...      1          69   \n",
       "\n",
       "                                        clean_review  \\\n",
       "1  regular payments failure takes 10 days time re...   \n",
       "2  keeps disabling account saying account tempora...   \n",
       "3  bad service gpay specialist team able solve pr...   \n",
       "4                                            bad app   \n",
       "7  guys updated app please inform users app updat...   \n",
       "\n",
       "                                              scores  \n",
       "1  {'neg': 0.191, 'neu': 0.809, 'pos': 0.0, 'comp...  \n",
       "2  {'neg': 0.276, 'neu': 0.647, 'pos': 0.076, 'co...  \n",
       "3  {'neg': 0.403, 'neu': 0.597, 'pos': 0.0, 'comp...  \n",
       "4  {'neg': 0.655, 'neu': 0.345, 'pos': 0.0, 'comp...  \n",
       "7  {'neg': 0.032, 'neu': 0.935, 'pos': 0.033, 'co...  "
      ]
     },
     "execution_count": 171,
     "metadata": {},
     "output_type": "execute_result"
    }
   ],
   "source": [
    "df['scores'] = df['content'].apply(lambda review: sid.polarity_scores(review))\n",
    "\n",
    "df.head()"
   ]
  },
  {
   "cell_type": "code",
   "execution_count": 172,
   "id": "d62007d9",
   "metadata": {},
   "outputs": [
    {
     "data": {
      "text/html": [
       "<div>\n",
       "<style scoped>\n",
       "    .dataframe tbody tr th:only-of-type {\n",
       "        vertical-align: middle;\n",
       "    }\n",
       "\n",
       "    .dataframe tbody tr th {\n",
       "        vertical-align: top;\n",
       "    }\n",
       "\n",
       "    .dataframe thead th {\n",
       "        text-align: right;\n",
       "    }\n",
       "</style>\n",
       "<table border=\"1\" class=\"dataframe\">\n",
       "  <thead>\n",
       "    <tr style=\"text-align: right;\">\n",
       "      <th></th>\n",
       "      <th>content</th>\n",
       "      <th>score</th>\n",
       "      <th>totalwords</th>\n",
       "      <th>clean_review</th>\n",
       "      <th>scores</th>\n",
       "      <th>compound</th>\n",
       "    </tr>\n",
       "  </thead>\n",
       "  <tbody>\n",
       "    <tr>\n",
       "      <th>1</th>\n",
       "      <td>Regular payments failure and takes more than 1...</td>\n",
       "      <td>1</td>\n",
       "      <td>15</td>\n",
       "      <td>regular payments failure takes 10 days time re...</td>\n",
       "      <td>{'neg': 0.191, 'neu': 0.809, 'pos': 0.0, 'comp...</td>\n",
       "      <td>-0.5106</td>\n",
       "    </tr>\n",
       "    <tr>\n",
       "      <th>2</th>\n",
       "      <td>It keeps on disabling my account saying accoun...</td>\n",
       "      <td>1</td>\n",
       "      <td>34</td>\n",
       "      <td>keeps disabling account saying account tempora...</td>\n",
       "      <td>{'neg': 0.276, 'neu': 0.647, 'pos': 0.076, 'co...</td>\n",
       "      <td>-0.8641</td>\n",
       "    </tr>\n",
       "    <tr>\n",
       "      <th>3</th>\n",
       "      <td>Very bad service from gpay their specialist te...</td>\n",
       "      <td>1</td>\n",
       "      <td>26</td>\n",
       "      <td>bad service gpay specialist team able solve pr...</td>\n",
       "      <td>{'neg': 0.403, 'neu': 0.597, 'pos': 0.0, 'comp...</td>\n",
       "      <td>-0.9097</td>\n",
       "    </tr>\n",
       "    <tr>\n",
       "      <th>4</th>\n",
       "      <td>Very bad app</td>\n",
       "      <td>1</td>\n",
       "      <td>3</td>\n",
       "      <td>bad app</td>\n",
       "      <td>{'neg': 0.655, 'neu': 0.345, 'pos': 0.0, 'comp...</td>\n",
       "      <td>-0.5849</td>\n",
       "    </tr>\n",
       "    <tr>\n",
       "      <th>7</th>\n",
       "      <td>Guys if you have updated your app then please ...</td>\n",
       "      <td>1</td>\n",
       "      <td>69</td>\n",
       "      <td>guys updated app please inform users app updat...</td>\n",
       "      <td>{'neg': 0.032, 'neu': 0.935, 'pos': 0.033, 'co...</td>\n",
       "      <td>0.0258</td>\n",
       "    </tr>\n",
       "  </tbody>\n",
       "</table>\n",
       "</div>"
      ],
      "text/plain": [
       "                                             content  score  totalwords  \\\n",
       "1  Regular payments failure and takes more than 1...      1          15   \n",
       "2  It keeps on disabling my account saying accoun...      1          34   \n",
       "3  Very bad service from gpay their specialist te...      1          26   \n",
       "4                                       Very bad app      1           3   \n",
       "7  Guys if you have updated your app then please ...      1          69   \n",
       "\n",
       "                                        clean_review  \\\n",
       "1  regular payments failure takes 10 days time re...   \n",
       "2  keeps disabling account saying account tempora...   \n",
       "3  bad service gpay specialist team able solve pr...   \n",
       "4                                            bad app   \n",
       "7  guys updated app please inform users app updat...   \n",
       "\n",
       "                                              scores  compound  \n",
       "1  {'neg': 0.191, 'neu': 0.809, 'pos': 0.0, 'comp...   -0.5106  \n",
       "2  {'neg': 0.276, 'neu': 0.647, 'pos': 0.076, 'co...   -0.8641  \n",
       "3  {'neg': 0.403, 'neu': 0.597, 'pos': 0.0, 'comp...   -0.9097  \n",
       "4  {'neg': 0.655, 'neu': 0.345, 'pos': 0.0, 'comp...   -0.5849  \n",
       "7  {'neg': 0.032, 'neu': 0.935, 'pos': 0.033, 'co...    0.0258  "
      ]
     },
     "execution_count": 172,
     "metadata": {},
     "output_type": "execute_result"
    }
   ],
   "source": [
    "df['compound']  = df['scores'].apply(lambda score_dict: score_dict['compound'])\n",
    "\n",
    "df.head()"
   ]
  },
  {
   "cell_type": "code",
   "execution_count": 173,
   "id": "602ae20b",
   "metadata": {},
   "outputs": [
    {
     "data": {
      "text/html": [
       "<div>\n",
       "<style scoped>\n",
       "    .dataframe tbody tr th:only-of-type {\n",
       "        vertical-align: middle;\n",
       "    }\n",
       "\n",
       "    .dataframe tbody tr th {\n",
       "        vertical-align: top;\n",
       "    }\n",
       "\n",
       "    .dataframe thead th {\n",
       "        text-align: right;\n",
       "    }\n",
       "</style>\n",
       "<table border=\"1\" class=\"dataframe\">\n",
       "  <thead>\n",
       "    <tr style=\"text-align: right;\">\n",
       "      <th></th>\n",
       "      <th>content</th>\n",
       "      <th>score</th>\n",
       "      <th>totalwords</th>\n",
       "      <th>clean_review</th>\n",
       "      <th>scores</th>\n",
       "      <th>compound</th>\n",
       "      <th>comp_score</th>\n",
       "    </tr>\n",
       "  </thead>\n",
       "  <tbody>\n",
       "    <tr>\n",
       "      <th>1</th>\n",
       "      <td>Regular payments failure and takes more than 1...</td>\n",
       "      <td>1</td>\n",
       "      <td>15</td>\n",
       "      <td>regular payments failure takes 10 days time re...</td>\n",
       "      <td>{'neg': 0.191, 'neu': 0.809, 'pos': 0.0, 'comp...</td>\n",
       "      <td>-0.5106</td>\n",
       "      <td>neg</td>\n",
       "    </tr>\n",
       "    <tr>\n",
       "      <th>2</th>\n",
       "      <td>It keeps on disabling my account saying accoun...</td>\n",
       "      <td>1</td>\n",
       "      <td>34</td>\n",
       "      <td>keeps disabling account saying account tempora...</td>\n",
       "      <td>{'neg': 0.276, 'neu': 0.647, 'pos': 0.076, 'co...</td>\n",
       "      <td>-0.8641</td>\n",
       "      <td>neg</td>\n",
       "    </tr>\n",
       "    <tr>\n",
       "      <th>3</th>\n",
       "      <td>Very bad service from gpay their specialist te...</td>\n",
       "      <td>1</td>\n",
       "      <td>26</td>\n",
       "      <td>bad service gpay specialist team able solve pr...</td>\n",
       "      <td>{'neg': 0.403, 'neu': 0.597, 'pos': 0.0, 'comp...</td>\n",
       "      <td>-0.9097</td>\n",
       "      <td>neg</td>\n",
       "    </tr>\n",
       "    <tr>\n",
       "      <th>4</th>\n",
       "      <td>Very bad app</td>\n",
       "      <td>1</td>\n",
       "      <td>3</td>\n",
       "      <td>bad app</td>\n",
       "      <td>{'neg': 0.655, 'neu': 0.345, 'pos': 0.0, 'comp...</td>\n",
       "      <td>-0.5849</td>\n",
       "      <td>neg</td>\n",
       "    </tr>\n",
       "    <tr>\n",
       "      <th>7</th>\n",
       "      <td>Guys if you have updated your app then please ...</td>\n",
       "      <td>1</td>\n",
       "      <td>69</td>\n",
       "      <td>guys updated app please inform users app updat...</td>\n",
       "      <td>{'neg': 0.032, 'neu': 0.935, 'pos': 0.033, 'co...</td>\n",
       "      <td>0.0258</td>\n",
       "      <td>pos</td>\n",
       "    </tr>\n",
       "  </tbody>\n",
       "</table>\n",
       "</div>"
      ],
      "text/plain": [
       "                                             content  score  totalwords  \\\n",
       "1  Regular payments failure and takes more than 1...      1          15   \n",
       "2  It keeps on disabling my account saying accoun...      1          34   \n",
       "3  Very bad service from gpay their specialist te...      1          26   \n",
       "4                                       Very bad app      1           3   \n",
       "7  Guys if you have updated your app then please ...      1          69   \n",
       "\n",
       "                                        clean_review  \\\n",
       "1  regular payments failure takes 10 days time re...   \n",
       "2  keeps disabling account saying account tempora...   \n",
       "3  bad service gpay specialist team able solve pr...   \n",
       "4                                            bad app   \n",
       "7  guys updated app please inform users app updat...   \n",
       "\n",
       "                                              scores  compound comp_score  \n",
       "1  {'neg': 0.191, 'neu': 0.809, 'pos': 0.0, 'comp...   -0.5106        neg  \n",
       "2  {'neg': 0.276, 'neu': 0.647, 'pos': 0.076, 'co...   -0.8641        neg  \n",
       "3  {'neg': 0.403, 'neu': 0.597, 'pos': 0.0, 'comp...   -0.9097        neg  \n",
       "4  {'neg': 0.655, 'neu': 0.345, 'pos': 0.0, 'comp...   -0.5849        neg  \n",
       "7  {'neg': 0.032, 'neu': 0.935, 'pos': 0.033, 'co...    0.0258        pos  "
      ]
     },
     "execution_count": 173,
     "metadata": {},
     "output_type": "execute_result"
    }
   ],
   "source": [
    "df['comp_score'] = df['compound'].apply(lambda c: 'pos' if c >=0 else 'neg')\n",
    "\n",
    "df.head()"
   ]
  },
  {
   "cell_type": "markdown",
   "id": "9fa321d3",
   "metadata": {},
   "source": [
    "## Topic Modelling of good reviews"
   ]
  },
  {
   "cell_type": "code",
   "execution_count": 98,
   "id": "4fb689b6",
   "metadata": {},
   "outputs": [
    {
     "data": {
      "text/html": [
       "<div>\n",
       "<style scoped>\n",
       "    .dataframe tbody tr th:only-of-type {\n",
       "        vertical-align: middle;\n",
       "    }\n",
       "\n",
       "    .dataframe tbody tr th {\n",
       "        vertical-align: top;\n",
       "    }\n",
       "\n",
       "    .dataframe thead th {\n",
       "        text-align: right;\n",
       "    }\n",
       "</style>\n",
       "<table border=\"1\" class=\"dataframe\">\n",
       "  <thead>\n",
       "    <tr style=\"text-align: right;\">\n",
       "      <th></th>\n",
       "      <th>content</th>\n",
       "      <th>score</th>\n",
       "    </tr>\n",
       "  </thead>\n",
       "  <tbody>\n",
       "    <tr>\n",
       "      <th>0</th>\n",
       "      <td>Very bad experience, zero 🌟.</td>\n",
       "      <td>1</td>\n",
       "    </tr>\n",
       "    <tr>\n",
       "      <th>1</th>\n",
       "      <td>Regular payments failure and takes more than 1...</td>\n",
       "      <td>1</td>\n",
       "    </tr>\n",
       "    <tr>\n",
       "      <th>2</th>\n",
       "      <td>It keeps on disabling my account saying accoun...</td>\n",
       "      <td>1</td>\n",
       "    </tr>\n",
       "    <tr>\n",
       "      <th>3</th>\n",
       "      <td>Very bad service from gpay their specialist te...</td>\n",
       "      <td>1</td>\n",
       "    </tr>\n",
       "    <tr>\n",
       "      <th>4</th>\n",
       "      <td>Very bad app</td>\n",
       "      <td>1</td>\n",
       "    </tr>\n",
       "    <tr>\n",
       "      <th>...</th>\n",
       "      <td>...</td>\n",
       "      <td>...</td>\n",
       "    </tr>\n",
       "    <tr>\n",
       "      <th>199995</th>\n",
       "      <td>Very good service</td>\n",
       "      <td>5</td>\n",
       "    </tr>\n",
       "    <tr>\n",
       "      <th>199996</th>\n",
       "      <td>Very good service</td>\n",
       "      <td>5</td>\n",
       "    </tr>\n",
       "    <tr>\n",
       "      <th>199997</th>\n",
       "      <td>Very good service</td>\n",
       "      <td>5</td>\n",
       "    </tr>\n",
       "    <tr>\n",
       "      <th>199998</th>\n",
       "      <td>Very good service</td>\n",
       "      <td>5</td>\n",
       "    </tr>\n",
       "    <tr>\n",
       "      <th>199999</th>\n",
       "      <td>Very good service</td>\n",
       "      <td>5</td>\n",
       "    </tr>\n",
       "  </tbody>\n",
       "</table>\n",
       "<p>200000 rows × 2 columns</p>\n",
       "</div>"
      ],
      "text/plain": [
       "                                                  content  score\n",
       "0                            Very bad experience, zero 🌟.      1\n",
       "1       Regular payments failure and takes more than 1...      1\n",
       "2       It keeps on disabling my account saying accoun...      1\n",
       "3       Very bad service from gpay their specialist te...      1\n",
       "4                                            Very bad app      1\n",
       "...                                                   ...    ...\n",
       "199995                                  Very good service      5\n",
       "199996                                  Very good service      5\n",
       "199997                                  Very good service      5\n",
       "199998                                  Very good service      5\n",
       "199999                                  Very good service      5\n",
       "\n",
       "[200000 rows x 2 columns]"
      ]
     },
     "execution_count": 98,
     "metadata": {},
     "output_type": "execute_result"
    }
   ],
   "source": [
    "import pandas as pd\n",
    "import numpy as np\n",
    "\n",
    "df = pd.read_csv(r\"C:\\Users\\Prince\\Downloads\\FintechApp_dataset.csv\", usecols=['content','score'])#mention the name of file to be extracted\n",
    "df"
   ]
  },
  {
   "cell_type": "code",
   "execution_count": 99,
   "id": "80e3c847",
   "metadata": {},
   "outputs": [],
   "source": [
    "df['totalwords'] = df['content'].str.split().str.len() # Calculate word count"
   ]
  },
  {
   "cell_type": "code",
   "execution_count": 100,
   "id": "2fc98c2c",
   "metadata": {},
   "outputs": [],
   "source": [
    "data = df.loc[df['totalwords'] > 5] #Removing all reviews having less than two words"
   ]
  },
  {
   "cell_type": "code",
   "execution_count": 101,
   "id": "8fc48080",
   "metadata": {},
   "outputs": [],
   "source": [
    "data = data.drop('totalwords',axis = 1)"
   ]
  },
  {
   "cell_type": "code",
   "execution_count": 102,
   "id": "9f8b74ba",
   "metadata": {},
   "outputs": [],
   "source": [
    "data = df.loc[df['score'] > 3] #Removing all positive reviews to focus on negative reviews and understand the problem"
   ]
  },
  {
   "cell_type": "code",
   "execution_count": 103,
   "id": "854831e8",
   "metadata": {},
   "outputs": [],
   "source": [
    "df = data[data['content'].map(lambda x: x.isascii())] #Removing all non-english reviews"
   ]
  },
  {
   "cell_type": "code",
   "execution_count": 104,
   "id": "fe64eec1",
   "metadata": {},
   "outputs": [],
   "source": [
    "df = df.dropna(how='all') # dropping blank rows"
   ]
  },
  {
   "cell_type": "code",
   "execution_count": 105,
   "id": "e25df2ab",
   "metadata": {},
   "outputs": [
    {
     "data": {
      "text/html": [
       "<div>\n",
       "<style scoped>\n",
       "    .dataframe tbody tr th:only-of-type {\n",
       "        vertical-align: middle;\n",
       "    }\n",
       "\n",
       "    .dataframe tbody tr th {\n",
       "        vertical-align: top;\n",
       "    }\n",
       "\n",
       "    .dataframe thead th {\n",
       "        text-align: right;\n",
       "    }\n",
       "</style>\n",
       "<table border=\"1\" class=\"dataframe\">\n",
       "  <thead>\n",
       "    <tr style=\"text-align: right;\">\n",
       "      <th></th>\n",
       "      <th>content</th>\n",
       "      <th>score</th>\n",
       "      <th>totalwords</th>\n",
       "    </tr>\n",
       "  </thead>\n",
       "  <tbody>\n",
       "    <tr>\n",
       "      <th>60001</th>\n",
       "      <td>Nice.thanks</td>\n",
       "      <td>4</td>\n",
       "      <td>1</td>\n",
       "    </tr>\n",
       "    <tr>\n",
       "      <th>60002</th>\n",
       "      <td>Good..but some times payment sending is pendin...</td>\n",
       "      <td>4</td>\n",
       "      <td>8</td>\n",
       "    </tr>\n",
       "    <tr>\n",
       "      <th>60003</th>\n",
       "      <td>Its very helpful</td>\n",
       "      <td>4</td>\n",
       "      <td>3</td>\n",
       "    </tr>\n",
       "    <tr>\n",
       "      <th>60004</th>\n",
       "      <td>Good app</td>\n",
       "      <td>4</td>\n",
       "      <td>2</td>\n",
       "    </tr>\n",
       "    <tr>\n",
       "      <th>60005</th>\n",
       "      <td>I love you gpay but it's one thing you're not ...</td>\n",
       "      <td>4</td>\n",
       "      <td>39</td>\n",
       "    </tr>\n",
       "    <tr>\n",
       "      <th>...</th>\n",
       "      <td>...</td>\n",
       "      <td>...</td>\n",
       "      <td>...</td>\n",
       "    </tr>\n",
       "    <tr>\n",
       "      <th>199995</th>\n",
       "      <td>Very good service</td>\n",
       "      <td>5</td>\n",
       "      <td>3</td>\n",
       "    </tr>\n",
       "    <tr>\n",
       "      <th>199996</th>\n",
       "      <td>Very good service</td>\n",
       "      <td>5</td>\n",
       "      <td>3</td>\n",
       "    </tr>\n",
       "    <tr>\n",
       "      <th>199997</th>\n",
       "      <td>Very good service</td>\n",
       "      <td>5</td>\n",
       "      <td>3</td>\n",
       "    </tr>\n",
       "    <tr>\n",
       "      <th>199998</th>\n",
       "      <td>Very good service</td>\n",
       "      <td>5</td>\n",
       "      <td>3</td>\n",
       "    </tr>\n",
       "    <tr>\n",
       "      <th>199999</th>\n",
       "      <td>Very good service</td>\n",
       "      <td>5</td>\n",
       "      <td>3</td>\n",
       "    </tr>\n",
       "  </tbody>\n",
       "</table>\n",
       "<p>72316 rows × 3 columns</p>\n",
       "</div>"
      ],
      "text/plain": [
       "                                                  content  score  totalwords\n",
       "60001                                         Nice.thanks      4           1\n",
       "60002   Good..but some times payment sending is pendin...      4           8\n",
       "60003                                    Its very helpful      4           3\n",
       "60004                                            Good app      4           2\n",
       "60005   I love you gpay but it's one thing you're not ...      4          39\n",
       "...                                                   ...    ...         ...\n",
       "199995                                  Very good service      5           3\n",
       "199996                                  Very good service      5           3\n",
       "199997                                  Very good service      5           3\n",
       "199998                                  Very good service      5           3\n",
       "199999                                  Very good service      5           3\n",
       "\n",
       "[72316 rows x 3 columns]"
      ]
     },
     "execution_count": 105,
     "metadata": {},
     "output_type": "execute_result"
    }
   ],
   "source": [
    "df"
   ]
  },
  {
   "cell_type": "code",
   "execution_count": 106,
   "id": "18c3cf71",
   "metadata": {},
   "outputs": [],
   "source": [
    "xx = df['content'].to_string(header=False, index=False)"
   ]
  },
  {
   "cell_type": "code",
   "execution_count": 107,
   "id": "abf0c945",
   "metadata": {},
   "outputs": [],
   "source": [
    "import re\n",
    "\n",
    "\n",
    "def remove_url(text):\n",
    "    text = re.sub(r\"http\\S+\", \"\", text)\n",
    "    return text\n",
    "\n",
    "\n",
    "# Example string with weird font characters plus an URL which we gonna remove.\n",
    "sample =  xx\n",
    "\n",
    "sample = remove_url(sample)\n",
    "#print(f\"Text after removing url:- \\n {sample}\")"
   ]
  },
  {
   "cell_type": "code",
   "execution_count": 108,
   "id": "37e37de9",
   "metadata": {},
   "outputs": [
    {
     "name": "stdout",
     "output_type": "stream",
     "text": [
      "Requirement already satisfied: demoji in c:\\users\\prince\\anaconda3\\lib\\site-packages (1.1.0)\n"
     ]
    }
   ],
   "source": [
    "!pip install demoji\n",
    "import demoji\n",
    "\n",
    "\n",
    "def handle_emoji(string):\n",
    "    emojis = demoji.findall(string)\n",
    "\n",
    "    for emoji in emojis:\n",
    "        string = string.replace(emoji, \" \" + emojis[emoji].split(\":\")[0])\n",
    "\n",
    "    return string\n",
    "\n",
    "\n",
    "#print(f\"Before Handling emoji:- \\n {sample}\")\n",
    "#print(f\"After Handling emoji:- \\n {handle_emoji(sample)}\")"
   ]
  },
  {
   "cell_type": "code",
   "execution_count": 109,
   "id": "c647f46a",
   "metadata": {},
   "outputs": [],
   "source": [
    "def word_tokenizer(text):\n",
    "    text = text.lower()\n",
    "    text = text.split()\n",
    "\n",
    "    return text\n",
    "\n",
    "\n",
    "sample = sample\n",
    "#print(sample)\n",
    "#print(word_tokenizer(sample))"
   ]
  },
  {
   "cell_type": "code",
   "execution_count": 115,
   "id": "5faca55e",
   "metadata": {},
   "outputs": [],
   "source": [
    "def remove_stopwords(text):\n",
    "    text = [word for word in text if word not in stop_words]\n",
    "    \n",
    "    return text\n",
    "\n",
    "\n",
    "#print(f\"Before removing stopwords : {word_tokenizer(sample)}\")\n",
    "#print(f\"After removing stopwords : {remove_stopwords(word_tokenizer(sample))}\")"
   ]
  },
  {
   "cell_type": "code",
   "execution_count": 116,
   "id": "99f290ab",
   "metadata": {},
   "outputs": [],
   "source": [
    "def preprocessing(text):\n",
    "    \n",
    "    text = remove_url(text) \n",
    "    text = handle_emoji(text)\n",
    "    text = text.lower() \n",
    "    text = re.sub(r'[^\\w\\s]', '', text)\n",
    "    text = word_tokenizer(text)\n",
    "    # text = stemming(text)\n",
    "    text = remove_stopwords(text)\n",
    "    text = \" \".join(text)\n",
    "\n",
    "    return text"
   ]
  },
  {
   "cell_type": "code",
   "execution_count": 118,
   "id": "ba5fa433",
   "metadata": {},
   "outputs": [],
   "source": [
    "import spacy\n",
    "sp = spacy.load(\"en_core_web_sm\")"
   ]
  },
  {
   "cell_type": "code",
   "execution_count": 119,
   "id": "0c466baa",
   "metadata": {},
   "outputs": [
    {
     "name": "stderr",
     "output_type": "stream",
     "text": [
      "100%|██████████| 72316/72316 [00:31<00:00, 2318.49it/s] \n"
     ]
    }
   ],
   "source": [
    "from tqdm import tqdm\n",
    "\n",
    "tqdm.pandas()\n",
    "\n",
    "df['clean_review'] = df['content'].progress_map(preprocessing)"
   ]
  },
  {
   "cell_type": "code",
   "execution_count": 120,
   "id": "490f3134",
   "metadata": {},
   "outputs": [
    {
     "name": "stdout",
     "output_type": "stream",
     "text": [
      "['nicethanks']\n"
     ]
    }
   ],
   "source": [
    "import gensim #Topic Modelling Technicque called LDA (Latent Dirichlet Allocation)\n",
    "from gensim.utils import simple_preprocess\n",
    "def sent_to_words(sentences):\n",
    "    for sentence in sentences:\n",
    "        yield(gensim.utils.simple_preprocess(str(sentence), deacc=True))  # deacc=True removes punctuations\n",
    "data = df['clean_review']\n",
    "data_words = list(sent_to_words(data))\n",
    "print(data_words[:1][0][:30])"
   ]
  },
  {
   "cell_type": "code",
   "execution_count": 121,
   "id": "0ec91892",
   "metadata": {},
   "outputs": [],
   "source": [
    "# Build the bigram and trigram models\n",
    "bigram = gensim.models.Phrases(data_words, min_count=50, threshold=100) # higher threshold fewer phrases.\n",
    "trigram = gensim.models.Phrases(bigram[data_words], threshold=100)\n",
    "# Faster way to get a sentence clubbed as a trigram/bigram\n",
    "bigram_mod = gensim.models.phrases.Phraser(bigram)\n",
    "trigram_mod = gensim.models.phrases.Phraser(trigram)"
   ]
  },
  {
   "cell_type": "code",
   "execution_count": 122,
   "id": "21e4b6b6",
   "metadata": {},
   "outputs": [
    {
     "name": "stderr",
     "output_type": "stream",
     "text": [
      "[nltk_data] Downloading package stopwords to\n",
      "[nltk_data]     C:\\Users\\Prince\\AppData\\Roaming\\nltk_data...\n",
      "[nltk_data]   Package stopwords is already up-to-date!\n"
     ]
    }
   ],
   "source": [
    "# NLTK Stop words\n",
    "import nltk\n",
    "nltk.download('stopwords')\n",
    "from nltk.corpus import stopwords\n",
    "stop_words = stopwords.words('english')\n",
    "stop_words.extend(['crypto','even','early'])\n",
    "# Define functions for stopwords, bigrams, trigrams and lemmatization\n",
    "def remove_stopwords(texts):\n",
    "    return [[word for word in simple_preprocess(str(doc)) if word not in stop_words] for doc in texts]\n",
    "def make_bigrams(texts):\n",
    "    return [bigram_mod[doc] for doc in texts]\n",
    "def make_trigrams(texts):\n",
    "    return [trigram_mod[bigram_mod[doc]] for doc in texts]\n",
    "def lemmatization(texts, allowed_postags=['NOUN', 'ADJ', 'ADV']):\n",
    "    \"\"\"https://spacy.io/api/annotation\"\"\"\n",
    "    texts_out = []\n",
    "    for sent in texts:\n",
    "        doc = nlp(\" \".join(sent)) \n",
    "        texts_out.append([token.lemma_ for token in doc if token.pos_ in allowed_postags])\n",
    "    return texts_out"
   ]
  },
  {
   "cell_type": "code",
   "execution_count": 123,
   "id": "8b4fffd8",
   "metadata": {},
   "outputs": [
    {
     "name": "stdout",
     "output_type": "stream",
     "text": [
      "Requirement already satisfied: spacy in c:\\users\\prince\\anaconda3\\lib\\site-packages (3.4.1)\n",
      "Requirement already satisfied: cymem<2.1.0,>=2.0.2 in c:\\users\\prince\\anaconda3\\lib\\site-packages (from spacy) (2.0.6)\n",
      "Requirement already satisfied: srsly<3.0.0,>=2.4.3 in c:\\users\\prince\\anaconda3\\lib\\site-packages (from spacy) (2.4.4)\n",
      "Requirement already satisfied: requests<3.0.0,>=2.13.0 in c:\\users\\prince\\anaconda3\\lib\\site-packages (from spacy) (2.27.1)\n",
      "Requirement already satisfied: setuptools in c:\\users\\prince\\anaconda3\\lib\\site-packages (from spacy) (61.2.0)\n",
      "Requirement already satisfied: langcodes<4.0.0,>=3.2.0 in c:\\users\\prince\\anaconda3\\lib\\site-packages (from spacy) (3.3.0)\n",
      "Requirement already satisfied: typer<0.5.0,>=0.3.0 in c:\\users\\prince\\anaconda3\\lib\\site-packages (from spacy) (0.4.2)\n",
      "Requirement already satisfied: numpy>=1.15.0 in c:\\users\\prince\\anaconda3\\lib\\site-packages (from spacy) (1.21.5)\n",
      "Requirement already satisfied: spacy-legacy<3.1.0,>=3.0.9 in c:\\users\\prince\\anaconda3\\lib\\site-packages (from spacy) (3.0.10)\n",
      "Requirement already satisfied: catalogue<2.1.0,>=2.0.6 in c:\\users\\prince\\anaconda3\\lib\\site-packages (from spacy) (2.0.8)\n",
      "Requirement already satisfied: preshed<3.1.0,>=3.0.2 in c:\\users\\prince\\anaconda3\\lib\\site-packages (from spacy) (3.0.7)\n",
      "Requirement already satisfied: pathy>=0.3.5 in c:\\users\\prince\\anaconda3\\lib\\site-packages (from spacy) (0.6.2)\n",
      "Requirement already satisfied: pydantic!=1.8,!=1.8.1,<1.10.0,>=1.7.4 in c:\\users\\prince\\anaconda3\\lib\\site-packages (from spacy) (1.9.2)\n",
      "Requirement already satisfied: tqdm<5.0.0,>=4.38.0 in c:\\users\\prince\\anaconda3\\lib\\site-packages (from spacy) (4.64.0)\n",
      "Requirement already satisfied: spacy-loggers<2.0.0,>=1.0.0 in c:\\users\\prince\\anaconda3\\lib\\site-packages (from spacy) (1.0.3)\n",
      "Requirement already satisfied: jinja2 in c:\\users\\prince\\anaconda3\\lib\\site-packages (from spacy) (2.11.3)\n",
      "Requirement already satisfied: packaging>=20.0 in c:\\users\\prince\\anaconda3\\lib\\site-packages (from spacy) (21.3)\n",
      "Requirement already satisfied: wasabi<1.1.0,>=0.9.1 in c:\\users\\prince\\anaconda3\\lib\\site-packages (from spacy) (0.10.1)\n",
      "Requirement already satisfied: thinc<8.2.0,>=8.1.0 in c:\\users\\prince\\anaconda3\\lib\\site-packages (from spacy) (8.1.2)\n",
      "Requirement already satisfied: murmurhash<1.1.0,>=0.28.0 in c:\\users\\prince\\anaconda3\\lib\\site-packages (from spacy) (1.0.8)\n",
      "Requirement already satisfied: pyparsing!=3.0.5,>=2.0.2 in c:\\users\\prince\\anaconda3\\lib\\site-packages (from packaging>=20.0->spacy) (3.0.4)\n",
      "Requirement already satisfied: smart-open<6.0.0,>=5.2.1 in c:\\users\\prince\\anaconda3\\lib\\site-packages (from pathy>=0.3.5->spacy) (5.2.1)\n",
      "Requirement already satisfied: typing-extensions>=3.7.4.3 in c:\\users\\prince\\anaconda3\\lib\\site-packages (from pydantic!=1.8,!=1.8.1,<1.10.0,>=1.7.4->spacy) (4.1.1)\n",
      "Requirement already satisfied: idna<4,>=2.5 in c:\\users\\prince\\anaconda3\\lib\\site-packages (from requests<3.0.0,>=2.13.0->spacy) (3.3)\n",
      "Requirement already satisfied: urllib3<1.27,>=1.21.1 in c:\\users\\prince\\anaconda3\\lib\\site-packages (from requests<3.0.0,>=2.13.0->spacy) (1.26.9)\n",
      "Requirement already satisfied: certifi>=2017.4.17 in c:\\users\\prince\\anaconda3\\lib\\site-packages (from requests<3.0.0,>=2.13.0->spacy) (2021.10.8)\n",
      "Requirement already satisfied: charset-normalizer~=2.0.0 in c:\\users\\prince\\anaconda3\\lib\\site-packages (from requests<3.0.0,>=2.13.0->spacy) (2.0.4)\n",
      "Requirement already satisfied: confection<1.0.0,>=0.0.1 in c:\\users\\prince\\anaconda3\\lib\\site-packages (from thinc<8.2.0,>=8.1.0->spacy) (0.0.1)\n",
      "Requirement already satisfied: blis<0.8.0,>=0.7.8 in c:\\users\\prince\\anaconda3\\lib\\site-packages (from thinc<8.2.0,>=8.1.0->spacy) (0.7.8)\n",
      "Requirement already satisfied: colorama in c:\\users\\prince\\anaconda3\\lib\\site-packages (from tqdm<5.0.0,>=4.38.0->spacy) (0.4.4)\n",
      "Requirement already satisfied: click<9.0.0,>=7.1.1 in c:\\users\\prince\\anaconda3\\lib\\site-packages (from typer<0.5.0,>=0.3.0->spacy) (8.0.4)\n",
      "Requirement already satisfied: MarkupSafe>=0.23 in c:\\users\\prince\\anaconda3\\lib\\site-packages (from jinja2->spacy) (2.0.1)\n",
      "[[]]\n"
     ]
    }
   ],
   "source": [
    "!pip install spacy\n",
    "import spacy\n",
    "# Remove Stop Words\n",
    "data_words_nostops = remove_stopwords(data_words)\n",
    "# Form Bigrams\n",
    "data_words_bigrams = make_bigrams(data_words_nostops)\n",
    "# Initialize spacy 'en' model, keeping only tagger component (for efficiency)\n",
    "nlp = spacy.load(\"en_core_web_sm\", disable=['parser', 'ner'])\n",
    "# Do lemmatization keeping only noun, adj, vb, adv\n",
    "data_lemmatized = lemmatization(data_words_bigrams, allowed_postags=['NOUN', 'ADJ','ADV'])\n",
    "print(data_lemmatized[:1])"
   ]
  },
  {
   "cell_type": "code",
   "execution_count": 124,
   "id": "bf36a06b",
   "metadata": {},
   "outputs": [
    {
     "name": "stdout",
     "output_type": "stream",
     "text": [
      "[[]]\n"
     ]
    }
   ],
   "source": [
    "import gensim.corpora as corpora\n",
    "# Create Dictionary\n",
    "id2word = corpora.Dictionary(data_words_bigrams)\n",
    "# Create Corpus\n",
    "texts = data_lemmatized\n",
    "# Term Document Frequency\n",
    "corpus = [id2word.doc2bow(text) for text in texts]\n",
    "# View\n",
    "print(corpus[:1])"
   ]
  },
  {
   "cell_type": "code",
   "execution_count": 125,
   "id": "c3658e6c",
   "metadata": {},
   "outputs": [],
   "source": [
    "# supporting function\n",
    "def compute_coherence_values(corpus, dictionary, k, a, b):\n",
    "    \n",
    "    lda_model = gensim.models.LdaMulticore(corpus=corpus,\n",
    "                                           id2word=dictionary,\n",
    "                                           num_topics=k, \n",
    "                                           random_state=100,\n",
    "                                           chunksize=100,\n",
    "                                           passes=10,\n",
    "                                           alpha=a,\n",
    "                                           eta=b)\n",
    "    \n",
    "    coherence_model_lda = CoherenceModel(model=lda_model, texts=data_lemmatized, dictionary=id2word, coherence='c_v')\n",
    "    \n",
    "    return coherence_model_lda.get_coherence()"
   ]
  },
  {
   "cell_type": "code",
   "execution_count": 126,
   "id": "f5f65157",
   "metadata": {},
   "outputs": [],
   "source": [
    "lda_model = gensim.models.ldamodel.LdaModel(corpus=corpus,\n",
    "                                           id2word=id2word,\n",
    "                                           num_topics= 10, #change it 1-10\n",
    "                                           random_state=100,\n",
    "                                           update_every=1,\n",
    "                                           chunksize=10,\n",
    "                                           passes=10,\n",
    "                                           per_word_topics=True)"
   ]
  },
  {
   "cell_type": "code",
   "execution_count": 127,
   "id": "a3862034",
   "metadata": {},
   "outputs": [
    {
     "name": "stdout",
     "output_type": "stream",
     "text": [
      "\n",
      "Coherence Score:  0.416025568538438\n"
     ]
    }
   ],
   "source": [
    "from gensim.models import CoherenceModel\n",
    "# Compute Coherence Score for topic 2\n",
    "coherence_model_lda = CoherenceModel(model=lda_model, texts=data_lemmatized, dictionary=id2word, coherence='c_v')\n",
    "coherence_lda = coherence_model_lda.get_coherence()\n",
    "print('\\nCoherence Score: ', coherence_lda)"
   ]
  },
  {
   "cell_type": "code",
   "execution_count": 128,
   "id": "18750790",
   "metadata": {},
   "outputs": [
    {
     "name": "stdout",
     "output_type": "stream",
     "text": [
      "[(0,\n",
      "  '0.232*\"really\" + 0.110*\"helpful\" + 0.105*\"happy\" + 0.033*\"star\" + '\n",
      "  '0.031*\"fund\" + 0.025*\"rate\" + 0.020*\"phonpe\" + 0.019*\"code\" + '\n",
      "  '0.017*\"download\" + 0.017*\"directly\"'),\n",
      " (1,\n",
      "  '0.677*\"good\" + 0.071*\"online\" + 0.047*\"super\" + 0.047*\"work\" + 0.026*\"year\" '\n",
      "  '+ 0.010*\"world\" + 0.008*\"translation\" + 0.008*\"train\" + 0.005*\"trust\" + '\n",
      "  '0.004*\"job\"'),\n",
      " (2,\n",
      "  '0.000*\"batch\" + 0.000*\"appso\" + 0.000*\"maney\" + 0.000*\"salo\" + '\n",
      "  '0.000*\"examination\" + 0.000*\"semister\" + 0.000*\"grateful\" + '\n",
      "  '0.000*\"appgreat\" + 0.000*\"superblife\" + 0.000*\"appamazing\"'),\n",
      " (3,\n",
      "  '0.282*\"app\" + 0.055*\"fast\" + 0.045*\"pay\" + 0.040*\"time\" + 0.036*\"useful\" + '\n",
      "  '0.036*\"well\" + 0.021*\"problem\" + 0.020*\"excellent\" + 0.020*\"great\" + '\n",
      "  '0.020*\"bill\"'),\n",
      " (4,\n",
      "  '0.000*\"batch\" + 0.000*\"appso\" + 0.000*\"maney\" + 0.000*\"salo\" + '\n",
      "  '0.000*\"examination\" + 0.000*\"semister\" + 0.000*\"grateful\" + '\n",
      "  '0.000*\"appgreat\" + 0.000*\"superblife\" + 0.000*\"appamazing\"'),\n",
      " (5,\n",
      "  '0.286*\"easy\" + 0.117*\"use\" + 0.117*\"transfer\" + 0.054*\"thank\" + '\n",
      "  '0.037*\"simple\" + 0.032*\"user_friendly\" + 0.028*\"cashback\" + 0.024*\"always\" '\n",
      "  '+ 0.022*\"life\" + 0.016*\"interface\"'),\n",
      " (6,\n",
      "  '0.000*\"batch\" + 0.000*\"appso\" + 0.000*\"maney\" + 0.000*\"salo\" + '\n",
      "  '0.000*\"examination\" + 0.000*\"semister\" + 0.000*\"grateful\" + '\n",
      "  '0.000*\"appgreat\" + 0.000*\"superblife\" + 0.000*\"appamazing\"'),\n",
      " (7,\n",
      "  '0.129*\"payment\" + 0.105*\"money\" + 0.088*\"transaction\" + 0.063*\"phonepe\" + '\n",
      "  '0.048*\"service\" + 0.027*\"bank\" + 0.022*\"safe\" + 0.021*\"awesome\" + '\n",
      "  '0.020*\"recharge\" + 0.018*\"card\"'),\n",
      " (8,\n",
      "  '0.368*\"nice\" + 0.113*\"account\" + 0.098*\"experience\" + 0.063*\"aap\" + '\n",
      "  '0.048*\"update\" + 0.040*\"gpay\" + 0.035*\"superb\" + 0.027*\"new\" + '\n",
      "  '0.021*\"error\" + 0.015*\"unable\"'),\n",
      " (9,\n",
      "  '0.196*\"phone\" + 0.097*\"application\" + 0.082*\"pe\" + 0.064*\"also\" + '\n",
      "  '0.023*\"sometimes\" + 0.023*\"balance\" + 0.020*\"able\" + 0.019*\"customer\" + '\n",
      "  '0.013*\"friend\" + 0.013*\"server\"')]\n"
     ]
    }
   ],
   "source": [
    "from pprint import pprint\n",
    "# Print the Keyword in the 10 topics\n",
    "pprint(lda_model.print_topics())\n",
    "doc_lda = lda_model[corpus]"
   ]
  },
  {
   "cell_type": "markdown",
   "id": "ba8fca99",
   "metadata": {},
   "source": [
    "### Topic Modelling of poor and unsatisfactory reviews"
   ]
  },
  {
   "cell_type": "code",
   "execution_count": 143,
   "id": "345fe79a",
   "metadata": {},
   "outputs": [
    {
     "data": {
      "text/html": [
       "<div>\n",
       "<style scoped>\n",
       "    .dataframe tbody tr th:only-of-type {\n",
       "        vertical-align: middle;\n",
       "    }\n",
       "\n",
       "    .dataframe tbody tr th {\n",
       "        vertical-align: top;\n",
       "    }\n",
       "\n",
       "    .dataframe thead th {\n",
       "        text-align: right;\n",
       "    }\n",
       "</style>\n",
       "<table border=\"1\" class=\"dataframe\">\n",
       "  <thead>\n",
       "    <tr style=\"text-align: right;\">\n",
       "      <th></th>\n",
       "      <th>content</th>\n",
       "      <th>score</th>\n",
       "    </tr>\n",
       "  </thead>\n",
       "  <tbody>\n",
       "    <tr>\n",
       "      <th>0</th>\n",
       "      <td>Very bad experience, zero 🌟.</td>\n",
       "      <td>1</td>\n",
       "    </tr>\n",
       "    <tr>\n",
       "      <th>1</th>\n",
       "      <td>Regular payments failure and takes more than 1...</td>\n",
       "      <td>1</td>\n",
       "    </tr>\n",
       "    <tr>\n",
       "      <th>2</th>\n",
       "      <td>It keeps on disabling my account saying accoun...</td>\n",
       "      <td>1</td>\n",
       "    </tr>\n",
       "    <tr>\n",
       "      <th>3</th>\n",
       "      <td>Very bad service from gpay their specialist te...</td>\n",
       "      <td>1</td>\n",
       "    </tr>\n",
       "    <tr>\n",
       "      <th>4</th>\n",
       "      <td>Very bad app</td>\n",
       "      <td>1</td>\n",
       "    </tr>\n",
       "    <tr>\n",
       "      <th>...</th>\n",
       "      <td>...</td>\n",
       "      <td>...</td>\n",
       "    </tr>\n",
       "    <tr>\n",
       "      <th>199995</th>\n",
       "      <td>Very good service</td>\n",
       "      <td>5</td>\n",
       "    </tr>\n",
       "    <tr>\n",
       "      <th>199996</th>\n",
       "      <td>Very good service</td>\n",
       "      <td>5</td>\n",
       "    </tr>\n",
       "    <tr>\n",
       "      <th>199997</th>\n",
       "      <td>Very good service</td>\n",
       "      <td>5</td>\n",
       "    </tr>\n",
       "    <tr>\n",
       "      <th>199998</th>\n",
       "      <td>Very good service</td>\n",
       "      <td>5</td>\n",
       "    </tr>\n",
       "    <tr>\n",
       "      <th>199999</th>\n",
       "      <td>Very good service</td>\n",
       "      <td>5</td>\n",
       "    </tr>\n",
       "  </tbody>\n",
       "</table>\n",
       "<p>200000 rows × 2 columns</p>\n",
       "</div>"
      ],
      "text/plain": [
       "                                                  content  score\n",
       "0                            Very bad experience, zero 🌟.      1\n",
       "1       Regular payments failure and takes more than 1...      1\n",
       "2       It keeps on disabling my account saying accoun...      1\n",
       "3       Very bad service from gpay their specialist te...      1\n",
       "4                                            Very bad app      1\n",
       "...                                                   ...    ...\n",
       "199995                                  Very good service      5\n",
       "199996                                  Very good service      5\n",
       "199997                                  Very good service      5\n",
       "199998                                  Very good service      5\n",
       "199999                                  Very good service      5\n",
       "\n",
       "[200000 rows x 2 columns]"
      ]
     },
     "execution_count": 143,
     "metadata": {},
     "output_type": "execute_result"
    }
   ],
   "source": [
    "import pandas as pd\n",
    "import numpy as np\n",
    "\n",
    "df = pd.read_csv(r\"C:\\Users\\Prince\\Downloads\\FintechApp_dataset.csv\", usecols=['content','score'])#mention the name of file to be extracted\n",
    "df"
   ]
  },
  {
   "cell_type": "code",
   "execution_count": 144,
   "id": "9a2f5da8",
   "metadata": {},
   "outputs": [],
   "source": [
    "df['totalwords'] = df['content'].str.split().str.len() # Calculate word count"
   ]
  },
  {
   "cell_type": "code",
   "execution_count": 145,
   "id": "61f391f8",
   "metadata": {},
   "outputs": [],
   "source": [
    "data = df.loc[df['totalwords'] > 5] #Removing all reviews having less than two words"
   ]
  },
  {
   "cell_type": "code",
   "execution_count": 146,
   "id": "a4339c54",
   "metadata": {},
   "outputs": [],
   "source": [
    "data = data.drop('totalwords',axis = 1)"
   ]
  },
  {
   "cell_type": "code",
   "execution_count": 147,
   "id": "928cb670",
   "metadata": {},
   "outputs": [],
   "source": [
    "data = df.loc[df['score'] < 2] #Removing all positive reviews to focus on negative reviews and understand the problem"
   ]
  },
  {
   "cell_type": "code",
   "execution_count": 148,
   "id": "19c38e8b",
   "metadata": {},
   "outputs": [],
   "source": [
    "df = data[data['content'].map(lambda x: x.isascii())] #Removing all non-english reviews"
   ]
  },
  {
   "cell_type": "code",
   "execution_count": 149,
   "id": "9d9e9345",
   "metadata": {},
   "outputs": [],
   "source": [
    "df = df.dropna(how='all') # dropping blank rows\n"
   ]
  },
  {
   "cell_type": "code",
   "execution_count": 150,
   "id": "464cc72f",
   "metadata": {},
   "outputs": [],
   "source": [
    "xx = df['content'].to_string(header=False, index=False)"
   ]
  },
  {
   "cell_type": "code",
   "execution_count": 151,
   "id": "29f5d1ed",
   "metadata": {},
   "outputs": [],
   "source": [
    "import re\n",
    "\n",
    "\n",
    "def remove_url(text):\n",
    "    text = re.sub(r\"http\\S+\", \"\", text)\n",
    "    return text\n",
    "\n",
    "\n",
    "# Example string with weird font characters plus an URL which we gonna remove.\n",
    "sample =  xx\n",
    "\n",
    "sample = remove_url(sample)\n",
    "#print(f\"Text after removing url:- \\n {sample}\")"
   ]
  },
  {
   "cell_type": "code",
   "execution_count": 152,
   "id": "bcc61c36",
   "metadata": {},
   "outputs": [],
   "source": [
    "import demoji\n",
    "\n",
    "\n",
    "def handle_emoji(string):\n",
    "    emojis = demoji.findall(string)\n",
    "\n",
    "    for emoji in emojis:\n",
    "        string = string.replace(emoji, \" \" + emojis[emoji].split(\":\")[0])\n",
    "\n",
    "    return string\n",
    "\n",
    "\n",
    "#print(f\"Before Handling emoji:- \\n {sample}\")\n",
    "#print(f\"After Handling emoji:- \\n {handle_emoji(sample)}\")"
   ]
  },
  {
   "cell_type": "code",
   "execution_count": 154,
   "id": "9318180f",
   "metadata": {},
   "outputs": [],
   "source": [
    "def word_tokenizer(text):\n",
    "    text = text.lower()\n",
    "    text = text.split()\n",
    "\n",
    "    return text\n",
    "\n",
    "\n",
    "sample = sample\n",
    "#print(sample)\n",
    "#print(word_tokenizer(sample))"
   ]
  },
  {
   "cell_type": "code",
   "execution_count": 155,
   "id": "95cc08fb",
   "metadata": {},
   "outputs": [],
   "source": [
    "def remove_stopwords(text):\n",
    "    text = [word for word in text if word not in stop_words]\n",
    "    \n",
    "    return text\n",
    "\n",
    "\n",
    "#print(f\"Before removing stopwords : {word_tokenizer(sample)}\")\n",
    "#print(f\"After removing stopwords : {remove_stopwords(word_tokenizer(sample))}\")"
   ]
  },
  {
   "cell_type": "code",
   "execution_count": 156,
   "id": "c8c7b098",
   "metadata": {},
   "outputs": [],
   "source": [
    "def preprocessing(text):\n",
    "    \n",
    "    text = remove_url(text) \n",
    "    text = handle_emoji(text)\n",
    "    text = text.lower() \n",
    "    text = re.sub(r'[^\\w\\s]', '', text)\n",
    "    text = word_tokenizer(text)\n",
    "    # text = stemming(text)\n",
    "    text = remove_stopwords(text)\n",
    "    text = \" \".join(text)\n",
    "\n",
    "    return text"
   ]
  },
  {
   "cell_type": "code",
   "execution_count": 158,
   "id": "58ce44e8",
   "metadata": {},
   "outputs": [],
   "source": [
    "import spacy\n",
    "sp = spacy.load(\"en_core_web_sm\")"
   ]
  },
  {
   "cell_type": "code",
   "execution_count": 159,
   "id": "232e9e08",
   "metadata": {},
   "outputs": [
    {
     "name": "stderr",
     "output_type": "stream",
     "text": [
      "100%|██████████| 36496/36496 [00:39<00:00, 927.04it/s] \n"
     ]
    }
   ],
   "source": [
    "from tqdm import tqdm\n",
    "\n",
    "tqdm.pandas()\n",
    "\n",
    "df['clean_review'] = df['content'].progress_map(preprocessing)"
   ]
  },
  {
   "cell_type": "code",
   "execution_count": 160,
   "id": "70ed5814",
   "metadata": {},
   "outputs": [
    {
     "name": "stdout",
     "output_type": "stream",
     "text": [
      "['regular', 'payments', 'failure', 'takes', 'days', 'time', 'refund', 'amount', 'back']\n"
     ]
    }
   ],
   "source": [
    "import gensim #Topic Modelling Technicque called LDA (Latent Dirichlet Allocation)\n",
    "from gensim.utils import simple_preprocess\n",
    "def sent_to_words(sentences):\n",
    "    for sentence in sentences:\n",
    "        yield(gensim.utils.simple_preprocess(str(sentence), deacc=True))  # deacc=True removes punctuations\n",
    "data = df['clean_review']\n",
    "data_words = list(sent_to_words(data))\n",
    "print(data_words[:1][0][:30])"
   ]
  },
  {
   "cell_type": "code",
   "execution_count": 161,
   "id": "f6064730",
   "metadata": {},
   "outputs": [],
   "source": [
    "# Build the bigram and trigram models\n",
    "bigram = gensim.models.Phrases(data_words, min_count=50, threshold=100) # higher threshold fewer phrases.\n",
    "trigram = gensim.models.Phrases(bigram[data_words], threshold=100)\n",
    "# Faster way to get a sentence clubbed as a trigram/bigram\n",
    "bigram_mod = gensim.models.phrases.Phraser(bigram)\n",
    "trigram_mod = gensim.models.phrases.Phraser(trigram)"
   ]
  },
  {
   "cell_type": "code",
   "execution_count": 162,
   "id": "83daf92e",
   "metadata": {},
   "outputs": [
    {
     "name": "stderr",
     "output_type": "stream",
     "text": [
      "[nltk_data] Downloading package stopwords to\n",
      "[nltk_data]     C:\\Users\\Prince\\AppData\\Roaming\\nltk_data...\n",
      "[nltk_data]   Package stopwords is already up-to-date!\n"
     ]
    }
   ],
   "source": [
    "# NLTK Stop words\n",
    "import nltk\n",
    "nltk.download('stopwords')\n",
    "from nltk.corpus import stopwords\n",
    "stop_words = stopwords.words('english')\n",
    "stop_words.extend(['crypto','even','early'])\n",
    "# Define functions for stopwords, bigrams, trigrams and lemmatization\n",
    "def remove_stopwords(texts):\n",
    "    return [[word for word in simple_preprocess(str(doc)) if word not in stop_words] for doc in texts]\n",
    "def make_bigrams(texts):\n",
    "    return [bigram_mod[doc] for doc in texts]\n",
    "def make_trigrams(texts):\n",
    "    return [trigram_mod[bigram_mod[doc]] for doc in texts]\n",
    "def lemmatization(texts, allowed_postags=['NOUN', 'ADJ', 'ADV']):\n",
    "    \"\"\"https://spacy.io/api/annotation\"\"\"\n",
    "    texts_out = []\n",
    "    for sent in texts:\n",
    "        doc = nlp(\" \".join(sent)) \n",
    "        texts_out.append([token.lemma_ for token in doc if token.pos_ in allowed_postags])\n",
    "    return texts_out"
   ]
  },
  {
   "cell_type": "code",
   "execution_count": 163,
   "id": "67146885",
   "metadata": {},
   "outputs": [
    {
     "name": "stdout",
     "output_type": "stream",
     "text": [
      "[['regular', 'payment', 'failure', 'day', 'time', 'refund', 'amount', 'back']]\n"
     ]
    }
   ],
   "source": [
    "import spacy\n",
    "# Remove Stop Words\n",
    "data_words_nostops = remove_stopwords(data_words)\n",
    "# Form Bigrams\n",
    "data_words_bigrams = make_bigrams(data_words_nostops)\n",
    "# Initialize spacy 'en' model, keeping only tagger component (for efficiency)\n",
    "nlp = spacy.load(\"en_core_web_sm\", disable=['parser', 'ner'])\n",
    "# Do lemmatization keeping only noun, adj, vb, adv\n",
    "data_lemmatized = lemmatization(data_words_bigrams, allowed_postags=['NOUN', 'ADJ','ADV'])\n",
    "print(data_lemmatized[:1])"
   ]
  },
  {
   "cell_type": "code",
   "execution_count": 164,
   "id": "df2fbf81",
   "metadata": {},
   "outputs": [
    {
     "name": "stdout",
     "output_type": "stream",
     "text": [
      "[[(0, 1), (1, 1), (3, 1), (5, 1), (6, 1), (8, 1), (94, 1), (131, 1)]]\n"
     ]
    }
   ],
   "source": [
    "import gensim.corpora as corpora\n",
    "# Create Dictionary\n",
    "id2word = corpora.Dictionary(data_words_bigrams)\n",
    "# Create Corpus\n",
    "texts = data_lemmatized\n",
    "# Term Document Frequency\n",
    "corpus = [id2word.doc2bow(text) for text in texts]\n",
    "# View\n",
    "print(corpus[:1])"
   ]
  },
  {
   "cell_type": "code",
   "execution_count": 165,
   "id": "3604e3ea",
   "metadata": {},
   "outputs": [],
   "source": [
    "# supporting function\n",
    "def compute_coherence_values(corpus, dictionary, k, a, b):\n",
    "    \n",
    "    lda_model = gensim.models.LdaMulticore(corpus=corpus,\n",
    "                                           id2word=dictionary,\n",
    "                                           num_topics=k, \n",
    "                                           random_state=100,\n",
    "                                           chunksize=100,\n",
    "                                           passes=10,\n",
    "                                           alpha=a,\n",
    "                                           eta=b)\n",
    "    \n",
    "    coherence_model_lda = CoherenceModel(model=lda_model, texts=data_lemmatized, dictionary=id2word, coherence='c_v')\n",
    "    \n",
    "    return coherence_model_lda.get_coherence()"
   ]
  },
  {
   "cell_type": "code",
   "execution_count": 166,
   "id": "1986109a",
   "metadata": {},
   "outputs": [],
   "source": [
    "lda_model = gensim.models.ldamodel.LdaModel(corpus=corpus,\n",
    "                                           id2word=id2word,\n",
    "                                           num_topics= 10, #change it 1-10\n",
    "                                           random_state=100,\n",
    "                                           update_every=1,\n",
    "                                           chunksize=10,\n",
    "                                           passes=10,\n",
    "                                           per_word_topics=True)"
   ]
  },
  {
   "cell_type": "code",
   "execution_count": 167,
   "id": "dd0848bc",
   "metadata": {},
   "outputs": [
    {
     "name": "stdout",
     "output_type": "stream",
     "text": [
      "\n",
      "Coherence Score:  0.48493665593101093\n"
     ]
    }
   ],
   "source": [
    "from gensim.models import CoherenceModel\n",
    "# Compute Coherence Score for topic 2\n",
    "coherence_model_lda = CoherenceModel(model=lda_model, texts=data_lemmatized, dictionary=id2word, coherence='c_v')\n",
    "coherence_lda = coherence_model_lda.get_coherence()\n",
    "print('\\nCoherence Score: ', coherence_lda)"
   ]
  },
  {
   "cell_type": "code",
   "execution_count": 168,
   "id": "e2c42c4f",
   "metadata": {},
   "outputs": [
    {
     "name": "stdout",
     "output_type": "stream",
     "text": [
      "[(0,\n",
      "  '0.000*\"lol\" + 0.000*\"chargable\" + 0.000*\"laggy\" + 0.000*\"showingit\" + '\n",
      "  '0.000*\"satisfy\" + 0.000*\"agin\" + 0.000*\"occasionally\" + 0.000*\"agian\" + '\n",
      "  '0.000*\"tata\" + 0.000*\"appso\"'),\n",
      " (1,\n",
      "  '0.000*\"lol\" + 0.000*\"chargable\" + 0.000*\"laggy\" + 0.000*\"showingit\" + '\n",
      "  '0.000*\"satisfy\" + 0.000*\"agin\" + 0.000*\"occasionally\" + 0.000*\"agian\" + '\n",
      "  '0.000*\"tata\" + 0.000*\"appso\"'),\n",
      " (2,\n",
      "  '0.108*\"issue\" + 0.107*\"wallet\" + 0.083*\"also\" + 0.053*\"good\" + '\n",
      "  '0.041*\"update\" + 0.038*\"cash\" + 0.034*\"coupon\" + 0.032*\"user\" + '\n",
      "  '0.027*\"reward\" + 0.024*\"lot\"'),\n",
      " (3,\n",
      "  '0.193*\"money\" + 0.099*\"phone\" + 0.066*\"pay\" + 0.039*\"option\" + 0.038*\"pe\" + '\n",
      "  '0.033*\"use\" + 0.029*\"number\" + 0.027*\"transfer\" + 0.026*\"recharge\" + '\n",
      "  '0.024*\"bill\"'),\n",
      " (4,\n",
      "  '0.078*\"payment\" + 0.073*\"time\" + 0.070*\"account\" + 0.062*\"customer\" + '\n",
      "  '0.059*\"day\" + 0.058*\"amount\" + 0.032*\"support\" + 0.026*\"still\" + '\n",
      "  '0.025*\"care\" + 0.024*\"ever\"'),\n",
      " (5,\n",
      "  '0.000*\"lol\" + 0.000*\"chargable\" + 0.000*\"laggy\" + 0.000*\"showingit\" + '\n",
      "  '0.000*\"satisfy\" + 0.000*\"agin\" + 0.000*\"occasionally\" + 0.000*\"agian\" + '\n",
      "  '0.000*\"tata\" + 0.000*\"appso\"'),\n",
      " (6,\n",
      "  '0.311*\"bad\" + 0.083*\"many\" + 0.072*\"experience\" + 0.070*\"well\" + '\n",
      "  '0.061*\"cashback\" + 0.043*\"people\" + 0.027*\"first\" + 0.021*\"offer\" + '\n",
      "  '0.021*\"extra\" + 0.016*\"emergency\"'),\n",
      " (7,\n",
      "  '0.000*\"lol\" + 0.000*\"chargable\" + 0.000*\"laggy\" + 0.000*\"showingit\" + '\n",
      "  '0.000*\"satisfy\" + 0.000*\"agin\" + 0.000*\"occasionally\" + 0.000*\"agian\" + '\n",
      "  '0.000*\"tata\" + 0.000*\"appso\"'),\n",
      " (8,\n",
      "  '0.285*\"app\" + 0.120*\"transaction\" + 0.107*\"phonepe\" + 0.027*\"card\" + '\n",
      "  '0.023*\"unable\" + 0.019*\"response\" + 0.017*\"useless\" + 0.016*\"message\" + '\n",
      "  '0.012*\"hour\" + 0.012*\"open\"'),\n",
      " (9,\n",
      "  '0.095*\"service\" + 0.077*\"bank\" + 0.070*\"problem\" + 0.067*\"ticket\" + '\n",
      "  '0.050*\"balance\" + 0.044*\"able\" + 0.037*\"never\" + 0.034*\"always\" + '\n",
      "  '0.033*\"team\" + 0.031*\"credit\"')]\n"
     ]
    }
   ],
   "source": [
    "from pprint import pprint\n",
    "# Print the Keyword in the 10 topics\n",
    "pprint(lda_model.print_topics())\n",
    "doc_lda = lda_model[corpus]"
   ]
  },
  {
   "cell_type": "markdown",
   "id": "533f020a",
   "metadata": {},
   "source": [
    "#### Through this project we analysed the sentiments in fintech app reviews, and also prepared a topic modelling framework to understand both good reviews and bad reviews "
   ]
  }
 ],
 "metadata": {
  "kernelspec": {
   "display_name": "Python 3 (ipykernel)",
   "language": "python",
   "name": "python3"
  },
  "language_info": {
   "codemirror_mode": {
    "name": "ipython",
    "version": 3
   },
   "file_extension": ".py",
   "mimetype": "text/x-python",
   "name": "python",
   "nbconvert_exporter": "python",
   "pygments_lexer": "ipython3",
   "version": "3.9.12"
  }
 },
 "nbformat": 4,
 "nbformat_minor": 5
}
