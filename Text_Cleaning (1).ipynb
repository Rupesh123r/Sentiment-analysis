{
  "nbformat": 4,
  "nbformat_minor": 0,
  "metadata": {
    "colab": {
      "provenance": []
    },
    "kernelspec": {
      "name": "python3",
      "display_name": "Python 3"
    },
    "language_info": {
      "name": "python"
    }
  },
  "cells": [
    {
      "cell_type": "code",
      "execution_count": 1,
      "metadata": {
        "id": "OiJb1bRLPmTE",
        "colab": {
          "base_uri": "https://localhost:8080/"
        },
        "outputId": "e837ae8d-d8f7-4251-d017-cfc519951f71"
      },
      "outputs": [
        {
          "output_type": "stream",
          "name": "stdout",
          "text": [
            "A touching movie It is full of emotions and wonderful acting I could have sat through it a second time \n"
          ]
        }
      ],
      "source": [
        "# Data Cleaning\n",
        "\n",
        "import re\n",
        "\n",
        "\n",
        "review = \"<b>A touching movie!!</b> It is full of emotions and wonderful acting.<br> I could have sat through it a second time.\"\n",
        "\n",
        "cleaned_review = re.sub(re.compile('<.*?>'), '', review) #removing HTML tags\n",
        "cleaned_review = re.sub('[^A-Za-z0-9]+', ' ', cleaned_review) #taking only words\n",
        "\n",
        "print(cleaned_review)"
      ]
    },
    {
      "cell_type": "code",
      "source": [
        "# Lowercase\n",
        "\n",
        "cleaned_review = cleaned_review.lower()\n",
        "\n",
        "print(cleaned_review)"
      ],
      "metadata": {
        "colab": {
          "base_uri": "https://localhost:8080/"
        },
        "id": "j6wJ07avZX9G",
        "outputId": "e17d0a99-21b3-419a-e140-2243807ce455"
      },
      "execution_count": 2,
      "outputs": [
        {
          "output_type": "stream",
          "name": "stdout",
          "text": [
            "a touching movie it is full of emotions and wonderful acting i could have sat through it a second time \n"
          ]
        }
      ]
    },
    {
      "cell_type": "code",
      "source": [
        "# Tokenization\n",
        "\n",
        "import nltk\n",
        "nltk.download('punkt')\n",
        "\n",
        "from nltk.tokenize import word_tokenize\n",
        "\n",
        "tokens = nltk.word_tokenize(cleaned_review)\n",
        "\n",
        "print(cleaned_review)\n",
        "print(tokens)"
      ],
      "metadata": {
        "colab": {
          "base_uri": "https://localhost:8080/"
        },
        "id": "8kVT31TpZp8r",
        "outputId": "69e751af-41d8-47ff-ee32-7cbce137f2ab"
      },
      "execution_count": 4,
      "outputs": [
        {
          "output_type": "stream",
          "name": "stderr",
          "text": [
            "[nltk_data] Downloading package punkt to /root/nltk_data...\n",
            "[nltk_data]   Unzipping tokenizers/punkt.zip.\n"
          ]
        },
        {
          "output_type": "stream",
          "name": "stdout",
          "text": [
            "a touching movie it is full of emotions and wonderful acting i could have sat through it a second time \n",
            "['a', 'touching', 'movie', 'it', 'is', 'full', 'of', 'emotions', 'and', 'wonderful', 'acting', 'i', 'could', 'have', 'sat', 'through', 'it', 'a', 'second', 'time']\n"
          ]
        }
      ]
    },
    {
      "cell_type": "code",
      "source": [
        "# Stop words removal\n",
        "\n",
        "nltk.download('stopwords')\n",
        "from nltk.corpus import stopwords\n",
        "\n",
        "stop_words = stopwords.words('english')\n",
        "\n",
        "filtered_review = [word for word in tokens if word not in stop_words] # removing stop words\n",
        "\n",
        "print(filtered_review)"
      ],
      "metadata": {
        "colab": {
          "base_uri": "https://localhost:8080/"
        },
        "id": "djt3vuhkZqLx",
        "outputId": "17ff3990-22b0-4640-f828-4436bc0be176"
      },
      "execution_count": 6,
      "outputs": [
        {
          "output_type": "stream",
          "name": "stdout",
          "text": [
            "['touching', 'movie', 'full', 'emotions', 'wonderful', 'acting', 'could', 'sat', 'second', 'time']\n"
          ]
        },
        {
          "output_type": "stream",
          "name": "stderr",
          "text": [
            "[nltk_data] Downloading package stopwords to /root/nltk_data...\n",
            "[nltk_data]   Unzipping corpora/stopwords.zip.\n"
          ]
        }
      ]
    },
    {
      "cell_type": "code",
      "source": [
        "# Stemming\n",
        "\n",
        "from nltk.stem import PorterStemmer\n",
        "\n",
        "stemmer = PorterStemmer()\n",
        "\n",
        "stemmed_review = [stemmer.stem(word) for word in filtered_review]\n",
        "\n",
        "print(stemmed_review)"
      ],
      "metadata": {
        "colab": {
          "base_uri": "https://localhost:8080/"
        },
        "id": "E54LQOkSaB1G",
        "outputId": "d84db98b-c746-4634-ad6d-5ba798084583"
      },
      "execution_count": 7,
      "outputs": [
        {
          "output_type": "stream",
          "name": "stdout",
          "text": [
            "['touch', 'movi', 'full', 'emot', 'wonder', 'act', 'could', 'sat', 'second', 'time']\n"
          ]
        }
      ]
    },
    {
      "cell_type": "code",
      "source": [
        "# Lemmatization\n",
        "import nltk\n",
        "nltk.download('wordnet')\n",
        "nltk.download('omw-1.4')\n",
        "from nltk.stem import WordNetLemmatizer\n",
        "from nltk.stem import WordNetLemmatizer\n",
        "\n",
        "lemmatizer = WordNetLemmatizer()\n",
        "\n",
        "lemm_review = [lemmatizer.lemmatize(word) for word in filtered_review]\n",
        "\n",
        "print(lemm_review)"
      ],
      "metadata": {
        "colab": {
          "base_uri": "https://localhost:8080/"
        },
        "id": "s1EY8pSBaB-L",
        "outputId": "07e80f1c-8624-47a9-8c6b-191613969dac"
      },
      "execution_count": 10,
      "outputs": [
        {
          "output_type": "stream",
          "name": "stderr",
          "text": [
            "[nltk_data] Downloading package wordnet to /root/nltk_data...\n",
            "[nltk_data]   Package wordnet is already up-to-date!\n",
            "[nltk_data] Downloading package omw-1.4 to /root/nltk_data...\n"
          ]
        },
        {
          "output_type": "stream",
          "name": "stdout",
          "text": [
            "['touching', 'movie', 'full', 'emotion', 'wonderful', 'acting', 'could', 'sat', 'second', 'time']\n"
          ]
        }
      ]
    }
  ]
}