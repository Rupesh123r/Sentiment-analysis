{
  "cells": [
    {
      "cell_type": "code",
      "execution_count": null,
      "id": "09552915",
      "metadata": {
        "id": "09552915"
      },
      "outputs": [],
      "source": [
        "\n",
        "import re\n",
        "import pandas as pd"
      ]
    },
    {
      "cell_type": "code",
      "execution_count": null,
      "id": "f5f5f37b",
      "metadata": {
        "id": "f5f5f37b"
      },
      "outputs": [],
      "source": [
        "df=pd.read_csv(\"C:\\\\Users\\\\ubuntu\\\\Downloads\\\\training.1600000.processed.noemoticon.csv\",encoding='latin1')"
      ]
    },
    {
      "cell_type": "code",
      "execution_count": null,
      "id": "28692c13",
      "metadata": {
        "id": "28692c13"
      },
      "outputs": [],
      "source": []
    },
    {
      "cell_type": "code",
      "execution_count": null,
      "id": "8aad75d4",
      "metadata": {
        "id": "8aad75d4",
        "outputId": "4436aed4-938f-4023-b19a-681d041424a4"
      },
      "outputs": [
        {
          "data": {
            "text/html": [
              "<div>\n",
              "<style scoped>\n",
              "    .dataframe tbody tr th:only-of-type {\n",
              "        vertical-align: middle;\n",
              "    }\n",
              "\n",
              "    .dataframe tbody tr th {\n",
              "        vertical-align: top;\n",
              "    }\n",
              "\n",
              "    .dataframe thead th {\n",
              "        text-align: right;\n",
              "    }\n",
              "</style>\n",
              "<table border=\"1\" class=\"dataframe\">\n",
              "  <thead>\n",
              "    <tr style=\"text-align: right;\">\n",
              "      <th></th>\n",
              "      <th>abc</th>\n",
              "      <th>abc1</th>\n",
              "      <th>abc2</th>\n",
              "      <th>abc3</th>\n",
              "      <th>abc4</th>\n",
              "      <th>tweets</th>\n",
              "    </tr>\n",
              "  </thead>\n",
              "  <tbody>\n",
              "    <tr>\n",
              "      <th>0</th>\n",
              "      <td>0</td>\n",
              "      <td>1467810369</td>\n",
              "      <td>Mon Apr 06 22:19:45 PDT 2009</td>\n",
              "      <td>NO_QUERY</td>\n",
              "      <td>_TheSpecialOne_</td>\n",
              "      <td>@switchfoot http://twitpic.com/2y1zl - Awww, t...</td>\n",
              "    </tr>\n",
              "    <tr>\n",
              "      <th>1</th>\n",
              "      <td>0</td>\n",
              "      <td>1467810672</td>\n",
              "      <td>Mon Apr 06 22:19:49 PDT 2009</td>\n",
              "      <td>NO_QUERY</td>\n",
              "      <td>scotthamilton</td>\n",
              "      <td>is upset that he can't update his Facebook by ...</td>\n",
              "    </tr>\n",
              "    <tr>\n",
              "      <th>2</th>\n",
              "      <td>0</td>\n",
              "      <td>1467810917</td>\n",
              "      <td>Mon Apr 06 22:19:53 PDT 2009</td>\n",
              "      <td>NO_QUERY</td>\n",
              "      <td>mattycus</td>\n",
              "      <td>@Kenichan I dived many times for the ball. Man...</td>\n",
              "    </tr>\n",
              "    <tr>\n",
              "      <th>3</th>\n",
              "      <td>0</td>\n",
              "      <td>1467811184</td>\n",
              "      <td>Mon Apr 06 22:19:57 PDT 2009</td>\n",
              "      <td>NO_QUERY</td>\n",
              "      <td>ElleCTF</td>\n",
              "      <td>my whole body feels itchy and like its on fire</td>\n",
              "    </tr>\n",
              "    <tr>\n",
              "      <th>4</th>\n",
              "      <td>0</td>\n",
              "      <td>1467811193</td>\n",
              "      <td>Mon Apr 06 22:19:57 PDT 2009</td>\n",
              "      <td>NO_QUERY</td>\n",
              "      <td>Karoli</td>\n",
              "      <td>@nationwideclass no, it's not behaving at all....</td>\n",
              "    </tr>\n",
              "  </tbody>\n",
              "</table>\n",
              "</div>"
            ],
            "text/plain": [
              "   abc        abc1                          abc2      abc3             abc4  \\\n",
              "0    0  1467810369  Mon Apr 06 22:19:45 PDT 2009  NO_QUERY  _TheSpecialOne_   \n",
              "1    0  1467810672  Mon Apr 06 22:19:49 PDT 2009  NO_QUERY    scotthamilton   \n",
              "2    0  1467810917  Mon Apr 06 22:19:53 PDT 2009  NO_QUERY         mattycus   \n",
              "3    0  1467811184  Mon Apr 06 22:19:57 PDT 2009  NO_QUERY          ElleCTF   \n",
              "4    0  1467811193  Mon Apr 06 22:19:57 PDT 2009  NO_QUERY           Karoli   \n",
              "\n",
              "                                             tweets   \n",
              "0  @switchfoot http://twitpic.com/2y1zl - Awww, t...  \n",
              "1  is upset that he can't update his Facebook by ...  \n",
              "2  @Kenichan I dived many times for the ball. Man...  \n",
              "3    my whole body feels itchy and like its on fire   \n",
              "4  @nationwideclass no, it's not behaving at all....  "
            ]
          },
          "execution_count": 15,
          "metadata": {},
          "output_type": "execute_result"
        }
      ],
      "source": [
        "df.head()"
      ]
    },
    {
      "cell_type": "code",
      "execution_count": null,
      "id": "006289d7",
      "metadata": {
        "id": "006289d7"
      },
      "outputs": [],
      "source": [
        "df.drop('abc', axis=1, inplace=True) "
      ]
    },
    {
      "cell_type": "code",
      "execution_count": null,
      "id": "af86b8db",
      "metadata": {
        "id": "af86b8db"
      },
      "outputs": [],
      "source": [
        "df.drop('abc1', axis=1, inplace=True) "
      ]
    },
    {
      "cell_type": "code",
      "execution_count": null,
      "id": "5a834376",
      "metadata": {
        "id": "5a834376"
      },
      "outputs": [],
      "source": [
        "df.drop('abc2', axis=1, inplace=True) "
      ]
    },
    {
      "cell_type": "code",
      "execution_count": null,
      "id": "182b61df",
      "metadata": {
        "id": "182b61df"
      },
      "outputs": [],
      "source": [
        "df.drop('abc3', axis=1, inplace=True) "
      ]
    },
    {
      "cell_type": "code",
      "execution_count": null,
      "id": "ad41a8ff",
      "metadata": {
        "id": "ad41a8ff"
      },
      "outputs": [],
      "source": [
        "df.drop('abc4', axis=1, inplace=True) "
      ]
    },
    {
      "cell_type": "code",
      "execution_count": null,
      "id": "6015a1c0",
      "metadata": {
        "id": "6015a1c0",
        "outputId": "d24779bf-4fab-4283-de0a-eb6190bd3f1d"
      },
      "outputs": [
        {
          "data": {
            "text/html": [
              "<div>\n",
              "<style scoped>\n",
              "    .dataframe tbody tr th:only-of-type {\n",
              "        vertical-align: middle;\n",
              "    }\n",
              "\n",
              "    .dataframe tbody tr th {\n",
              "        vertical-align: top;\n",
              "    }\n",
              "\n",
              "    .dataframe thead th {\n",
              "        text-align: right;\n",
              "    }\n",
              "</style>\n",
              "<table border=\"1\" class=\"dataframe\">\n",
              "  <thead>\n",
              "    <tr style=\"text-align: right;\">\n",
              "      <th></th>\n",
              "      <th>tweets</th>\n",
              "    </tr>\n",
              "  </thead>\n",
              "  <tbody>\n",
              "    <tr>\n",
              "      <th>0</th>\n",
              "      <td>@switchfoot http://twitpic.com/2y1zl - Awww, t...</td>\n",
              "    </tr>\n",
              "    <tr>\n",
              "      <th>1</th>\n",
              "      <td>is upset that he can't update his Facebook by ...</td>\n",
              "    </tr>\n",
              "    <tr>\n",
              "      <th>2</th>\n",
              "      <td>@Kenichan I dived many times for the ball. Man...</td>\n",
              "    </tr>\n",
              "    <tr>\n",
              "      <th>3</th>\n",
              "      <td>my whole body feels itchy and like its on fire</td>\n",
              "    </tr>\n",
              "    <tr>\n",
              "      <th>4</th>\n",
              "      <td>@nationwideclass no, it's not behaving at all....</td>\n",
              "    </tr>\n",
              "  </tbody>\n",
              "</table>\n",
              "</div>"
            ],
            "text/plain": [
              "                                             tweets \n",
              "0  @switchfoot http://twitpic.com/2y1zl - Awww, t...\n",
              "1  is upset that he can't update his Facebook by ...\n",
              "2  @Kenichan I dived many times for the ball. Man...\n",
              "3    my whole body feels itchy and like its on fire \n",
              "4  @nationwideclass no, it's not behaving at all...."
            ]
          },
          "execution_count": 21,
          "metadata": {},
          "output_type": "execute_result"
        }
      ],
      "source": [
        "df.head()"
      ]
    },
    {
      "cell_type": "code",
      "execution_count": null,
      "id": "8d2cf618",
      "metadata": {
        "id": "8d2cf618"
      },
      "outputs": [],
      "source": [
        "a=df.to_string(header=False,index=False)"
      ]
    },
    {
      "cell_type": "code",
      "execution_count": null,
      "id": "897536d2",
      "metadata": {
        "id": "897536d2"
      },
      "outputs": [],
      "source": [
        "\n"
      ]
    },
    {
      "cell_type": "code",
      "execution_count": null,
      "id": "1bba4724",
      "metadata": {
        "id": "1bba4724"
      },
      "outputs": [],
      "source": [
        "cleaned_review = re.sub(re.compile('<.*?>'), '', a) #removing HTML tags\n",
        "cleaned_review = re.sub('[^A-Za-z0-9]+', ' ', cleaned_review) #taking only words\n"
      ]
    },
    {
      "cell_type": "code",
      "execution_count": null,
      "id": "1c2a0350",
      "metadata": {
        "id": "1c2a0350"
      },
      "outputs": [],
      "source": [
        "\n",
        "cleaned_review = cleaned_review.lower()"
      ]
    },
    {
      "cell_type": "code",
      "execution_count": null,
      "id": "1a0d2961",
      "metadata": {
        "id": "1a0d2961",
        "outputId": "dc067733-3865-4df3-e93b-830ae2dda3e8"
      },
      "outputs": [
        {
          "name": "stderr",
          "output_type": "stream",
          "text": [
            "[nltk_data] Downloading package punkt to\n",
            "[nltk_data]     C:\\Users\\ubuntu\\AppData\\Roaming\\nltk_data...\n",
            "[nltk_data]   Unzipping tokenizers\\punkt.zip.\n"
          ]
        }
      ],
      "source": [
        "import nltk\n",
        "nltk.download('punkt')\n",
        "\n",
        "from nltk.tokenize import word_tokenize\n",
        "\n",
        "tokens = nltk.word_tokenize(cleaned_review)\n"
      ]
    },
    {
      "cell_type": "code",
      "execution_count": null,
      "id": "4b488db4",
      "metadata": {
        "id": "4b488db4",
        "outputId": "d26d3464-2b38-4856-d40b-13adb98bc697"
      },
      "outputs": [
        {
          "name": "stderr",
          "output_type": "stream",
          "text": [
            "[nltk_data] Downloading package stopwords to\n",
            "[nltk_data]     C:\\Users\\ubuntu\\AppData\\Roaming\\nltk_data...\n",
            "[nltk_data]   Unzipping corpora\\stopwords.zip.\n"
          ]
        }
      ],
      "source": [
        "nltk.download('stopwords')\n",
        "from nltk.corpus import stopwords\n",
        "\n",
        "stop_words = stopwords.words('english')\n",
        "\n",
        "filtered_review = [word for word in tokens if word not in stop_words] # removing stop words"
      ]
    },
    {
      "cell_type": "code",
      "execution_count": null,
      "id": "975a07b7",
      "metadata": {
        "id": "975a07b7"
      },
      "outputs": [],
      "source": [
        "# Stemming\n",
        "\n",
        "from nltk.stem import PorterStemmer\n",
        "\n",
        "stemmer = PorterStemmer()\n",
        "\n",
        "stemmed_review = [stemmer.stem(word) for word in filtered_review]"
      ]
    },
    {
      "cell_type": "code",
      "execution_count": null,
      "id": "f772526e",
      "metadata": {
        "id": "f772526e",
        "outputId": "7921bd75-f9cd-45d8-d2a6-77e240566f3d"
      },
      "outputs": [
        {
          "name": "stderr",
          "output_type": "stream",
          "text": [
            "[nltk_data] Downloading package wordnet to\n",
            "[nltk_data]     C:\\Users\\ubuntu\\AppData\\Roaming\\nltk_data...\n",
            "[nltk_data] Downloading package omw-1.4 to\n",
            "[nltk_data]     C:\\Users\\ubuntu\\AppData\\Roaming\\nltk_data...\n"
          ]
        }
      ],
      "source": [
        "# Lemmatization\n",
        "import nltk\n",
        "nltk.download('wordnet')\n",
        "nltk.download('omw-1.4')\n",
        "from nltk.stem import WordNetLemmatizer\n",
        "from nltk.stem import WordNetLemmatizer\n",
        "\n",
        "lemmatizer = WordNetLemmatizer()\n",
        "\n",
        "lemm_review = [lemmatizer.lemmatize(word) for word in filtered_review]"
      ]
    },
    {
      "cell_type": "code",
      "execution_count": null,
      "id": "10643af9",
      "metadata": {
        "id": "10643af9",
        "outputId": "4dfeda66-650e-48e4-f7af-3c6e8eac4aea"
      },
      "outputs": [
        {
          "name": "stdout",
          "output_type": "stream",
          "text": [
            "switchfoot\n"
          ]
        }
      ],
      "source": [
        "print(lemm_review[0])"
      ]
    },
    {
      "cell_type": "code",
      "execution_count": null,
      "id": "50fce5b0",
      "metadata": {
        "id": "50fce5b0"
      },
      "outputs": [],
      "source": []
    }
  ],
  "metadata": {
    "kernelspec": {
      "display_name": "Python 3 (ipykernel)",
      "language": "python",
      "name": "python3"
    },
    "language_info": {
      "codemirror_mode": {
        "name": "ipython",
        "version": 3
      },
      "file_extension": ".py",
      "mimetype": "text/x-python",
      "name": "python",
      "nbconvert_exporter": "python",
      "pygments_lexer": "ipython3",
      "version": "3.9.7"
    },
    "colab": {
      "provenance": []
    }
  },
  "nbformat": 4,
  "nbformat_minor": 5
}